{
 "cells": [
  {
   "cell_type": "markdown",
   "metadata": {},
   "source": [
    "# Identify Fraud from Enron Email\n",
    "Project for Intro to Machine Learning  \n",
    "## Goal:\n",
    "\n",
    "### Project Overview\n",
    "In 2000, Enron was one of the largest companies in the United States. By 2002, it had collapsed into bankruptcy due to widespread corporate fraud. In the resulting Federal investigation, a significant amount of typically confidential information entered into the public record, including tens of thousands of emails and detailed financial data for top executives. In this project, you will play detective, and put your new skills to use by building a person of interest identifier based on financial and email data made public as a result of the Enron scandal. To assist you in your detective work, we've combined this data with a hand-generated list of persons of interest in the fraud case, which means individuals who were indicted, reached a settlement or plea deal with the government, or testified in exchange for prosecution immunity.\n",
    "\n",
    "Provided is a combined the Enron email and financial dataset in the form of a dictionary, where each key-value pair in the dictionary corresponds to one person. The dictionary key is the person's name, and the value is another dictionary, which contains the names of all the features and their values for that person. The features in the data fall into three major types, namely financial features, email features and POI labels.\n",
    "\n",
    "### Project goal\n",
    "The goal of the project is to see if I an make building a person of interest identifier that has reasonable accuracy and other metric scores to identify persons of interest from based on financial and email data made public as a result of the Enron scandal.\n",
    "\n",
    "### Project Plan\n",
    "The steps to achieve this will be:\n",
    "\n",
    "* Dataset exploration / Question\n",
    "* Features\n",
    "* Algorithms\n",
    "* Evaluation\n"
   ]
  },
  {
   "cell_type": "markdown",
   "metadata": {},
   "source": [
    "## Used libraries and functions"
   ]
  },
  {
   "cell_type": "code",
   "execution_count": 1,
   "metadata": {},
   "outputs": [],
   "source": [
    "# general libraries\n",
    "import os\n",
    "import pickle\n",
    "\n",
    "# general data handling\n",
    "import pandas as pd\n",
    "import numpy as np\n",
    "# visualization\n",
    "import matplotlib.pyplot as plt\n",
    "import seaborn as sns\n",
    "\n",
    "import warnings\n",
    "warnings.filterwarnings('ignore')\n",
    "\n",
    "pd.options.display.max_columns = None\n",
    "pd.options.display.max_rows = 200\n",
    "# Machine learning\n",
    "\n",
    "from sklearn.model_selection import train_test_split\n",
    "from sklearn.model_selection import GridSearchCV\n",
    "\n",
    "from sklearn.feature_selection import SelectPercentile\n",
    "from sklearn.feature_selection import SelectKBest\n",
    "from sklearn.feature_selection import chi2\n",
    "\n",
    "from sklearn.pipeline import Pipeline\n",
    "from sklearn.decomposition import PCA, NMF\n",
    "\n",
    "from sklearn.preprocessing import MinMaxScaler\n",
    "from sklearn.preprocessing import minmax_scale\n",
    "from sklearn.preprocessing import MaxAbsScaler\n",
    "from sklearn.preprocessing import StandardScaler\n",
    "from sklearn.preprocessing import RobustScaler\n",
    "from sklearn.preprocessing import Normalizer\n",
    "from sklearn.preprocessing import QuantileTransformer\n",
    "from sklearn.preprocessing import PowerTransformer\n",
    "\n",
    "from sklearn.naive_bayes import GaussianNB\n",
    "from sklearn.svm import SVC\n",
    "from sklearn.svm import LinearSVC\n",
    "from sklearn.svm import NuSVC\n",
    "\n",
    "from sklearn.tree import DecisionTreeClassifier\n",
    "from sklearn.ensemble import RandomForestClassifier\n",
    "from sklearn.ensemble import AdaBoostClassifier\n",
    "from sklearn.ensemble import GradientBoostingClassifier\n",
    "\n",
    "from sklearn.discriminant_analysis import LinearDiscriminantAnalysis\n",
    "from sklearn.discriminant_analysis import QuadraticDiscriminantAnalysis\n",
    "\n",
    "from sklearn.metrics import f1_score\n",
    "from sklearn.metrics import precision_score\n",
    "from sklearn.metrics import recall_score\n",
    "from sklearn.metrics import accuracy_score\n",
    "from sklearn.metrics import log_loss\n",
    "\n",
    "import sys\n",
    "sys.path.append(\"../tools/\")\n",
    "from feature_format import featureFormat, targetFeatureSplit\n",
    "from tester import dump_classifier_and_data\n",
    "\n",
    "from sklearn.model_selection import StratifiedShuffleSplit\n",
    "from tester import dump_classifier_and_data\n",
    "from sklearn.tree import DecisionTreeClassifier\n",
    "from sklearn.preprocessing import PowerTransformer, MinMaxScaler, RobustScaler"
   ]
  },
  {
   "cell_type": "code",
   "execution_count": 77,
   "metadata": {},
   "outputs": [],
   "source": [
    "def remove_keys(dictionary, remove_list):\n",
    "    \"\"\"\n",
    "    remove entry in dicrionary by key\n",
    "    \"\"\"\n",
    "    for key in remove_list:\n",
    "        try:\n",
    "            del dictionary[key]\n",
    "        except:\n",
    "            print(\"error : \" + str(key) + \" not in dictionary\" )\n",
    "    return dictionary\n",
    "\n",
    "\n",
    "def replace_nan_ndict(ndict):\n",
    "    \"\"\"\n",
    "    replace NaN with 0 in the dictionary\n",
    "    \"\"\"\n",
    "    for k,v in ndict.items():\n",
    "        for key, value in v.items():\n",
    "            if isinstance(value, (int, long, float, complex)) and not isinstance(value, bool):\n",
    "                if isnan(value) == True:\n",
    "                    ndict[k][key] = 0\n",
    "            elif value == 'NaN':\n",
    "                ndict[k][key] = 0\n",
    "    return ndict\n"
   ]
  },
  {
   "cell_type": "markdown",
   "metadata": {},
   "source": [
    "## Questions:\n",
    "1. Summarize for us the goal of this project and how machine learning is useful in trying to accomplish it. As part of your answer, give some background on the dataset and how it can be used to answer the project question. Were there any outliers in the data when you got it, and how did you handle those?  [relevant rubric items: “data exploration”, “outlier investigation”]\n",
    "\n",
    "2. What features did you end up using in your POI identifier, and what selection process did you use to pick them? Did you have to do any scaling? Why or why not? As part of the assignment, you should attempt to engineer your own feature that does not come ready-made in the dataset -- explain what feature you tried to make, and the rationale behind it. (You do not necessarily have to use it in the final analysis, only engineer and test it.) In your feature selection step, if you used an algorithm like a decision tree, please also give the feature importances of the features that you use, and if you used an automated feature selection function like SelectKBest, please report the feature scores and reasons for your choice of parameter values.  [relevant rubric items: “create new features”, “intelligently select features”, “properly scale features”]\n",
    "\n",
    "3. What algorithm did you end up using? What other one(s) did you try? How did model performance differ between algorithms?  [relevant rubric item: “pick an algorithm”]\n",
    "\n",
    "4. What does it mean to tune the parameters of an algorithm, and what can happen if you don’t do this well?  How did you tune the parameters of your particular algorithm? What parameters did you tune? (Some algorithms do not have parameters that you need to tune -- if this is the case for the one you picked, identify and briefly explain how you would have done it for the model that was not your final choice or a different model that does utilize parameter tuning, e.g. a decision tree classifier).  [relevant rubric items: “discuss parameter tuning”, “tune the algorithm”]\n",
    "\n",
    "5. What is validation, and what’s a classic mistake you can make if you do it wrong? How did you validate your analysis?  [relevant rubric items: “discuss validation”, “validation strategy”]\n",
    "\n",
    "6. Give at least 2 evaluation metrics and your average performance for each of them.  Explain an interpretation of your metrics that says something human-understandable about your algorithm’s performance. [relevant rubric item: “usage of evaluation metrics”]\n",
    "\n",
    "## Data exploration\n",
    "For the first part I am checking what is in the data, how consistent it is, etc.\n",
    "from the rubric:\n",
    "\n",
    "Student response addresses the most important characteristics of the dataset and uses these characteristics to inform their analysis. Important characteristics include:\n",
    "\n",
    "* total number of data points\n",
    "* allocation across classes (POI/non-POI)\n",
    "* number of features used\n",
    "* are there features with many missing values? etc.\n",
    "\n",
    "I'll first create a dataframe with the data, in order to explore a bit easier. In the Udacity lesson on outliers, we already identified the TOTAL row from the [financial overview](../final_project/enron61702insiderpay.pdf) Looking at the data, 'THE TRAVEL AGENCY IN THE PARK' also is an obvious candidate for removal, since this is not a person and we are looking for a person of interest.  \n",
    "Additionally I'll clean up the NaN with np.nan, so I can have a better look with wuild in functions."
   ]
  },
  {
   "cell_type": "code",
   "execution_count": 4,
   "metadata": {},
   "outputs": [],
   "source": [
    "#read in dictionary from pkl\n",
    "enron_data = pd.read_pickle(\"final_project_dataset.pkl\")\n",
    "# looking at the data, there are some obvious non-persons in the dictionary:\n",
    "non_persons = ['TOTAL', 'THE TRAVEL AGENCY IN THE PARK']\n",
    "enron_data = remove_keys(enron_data, non_persons)\n",
    "#create df from dictionary for ease of use\n",
    "enron_df = pd.DataFrame.from_dict(enron_data)\n",
    "enron_df = enron_df.transpose() #transpose\n",
    "enron_df = enron_df.replace('NaN', np.nan)"
   ]
  },
  {
   "cell_type": "markdown",
   "metadata": {},
   "source": [
    "### Summary of dataset\n",
    "Pandas has some nice functions to get some general information:"
   ]
  },
  {
   "cell_type": "code",
   "execution_count": 5,
   "metadata": {
    "scrolled": true
   },
   "outputs": [
    {
     "name": "stdout",
     "output_type": "stream",
     "text": [
      "<class 'pandas.core.frame.DataFrame'>\n",
      "Index: 144 entries, ALLEN PHILLIP K to YEAP SOON\n",
      "Data columns (total 21 columns):\n",
      "bonus                        81 non-null float64\n",
      "deferral_payments            38 non-null float64\n",
      "deferred_income              48 non-null float64\n",
      "director_fees                16 non-null float64\n",
      "email_address                111 non-null object\n",
      "exercised_stock_options      101 non-null float64\n",
      "expenses                     94 non-null float64\n",
      "from_messages                86 non-null float64\n",
      "from_poi_to_this_person      86 non-null float64\n",
      "from_this_person_to_poi      86 non-null float64\n",
      "loan_advances                3 non-null float64\n",
      "long_term_incentive          65 non-null float64\n",
      "other                        91 non-null float64\n",
      "poi                          144 non-null bool\n",
      "restricted_stock             109 non-null float64\n",
      "restricted_stock_deferred    17 non-null float64\n",
      "salary                       94 non-null float64\n",
      "shared_receipt_with_poi      86 non-null float64\n",
      "to_messages                  86 non-null float64\n",
      "total_payments               123 non-null float64\n",
      "total_stock_value            125 non-null float64\n",
      "dtypes: bool(1), float64(19), object(1)\n",
      "memory usage: 23.8+ KB\n"
     ]
    }
   ],
   "source": [
    "enron_df.info()"
   ]
  },
  {
   "cell_type": "markdown",
   "metadata": {},
   "source": [
    "\n",
    "\n",
    "In the dataset there is a mix of different data: payment, stock and email information\n",
    "\n",
    "payment features:  \n",
    "\n",
    "| Feature | meaning |\n",
    "|: -------|:--------|\n",
    "| salary | Reflects items such as base salary, executive cash allowances, and benefits payments |\n",
    "| bonus | Reflects annual cash incentives paid based upon company performance. Also may include other retention payments. |\n",
    "| long_term_incentive |Reflects long-term incentive cash payments from various long-term incentive programs designed to tie executive compensation to long-term success as measured against key performance drivers and business objectives over a multi-year period, generally 3 to 5 years. |\n",
    "| deferred_income | Reflects voluntary executive deferrals of salary, annual cash incentives, and long-term cash incentives as well as cash fees deferred by non-employee directors under a deferred compensation arrangement. May also reflect deferrals under a stock option or phantom stock unit in lieu of cash arrangement.  |\n",
    "| deferral_payments  |Reflects distributions from a deferred compensation arrangement due to termination of employment or due to in-service withdrawals as per plan provisions. |\n",
    "| loan_advances  | Reflects total amount of loan advances, excluding repayments, provided by the Debtor in return for a promise of repayment. In certain instances, the terms of the promissory notes allow for the option to repay with stock of the company. |\n",
    "| other  |Reflects items such as payments for severence, consulting services, relocation costs, tax advances and allowances for employees on international assignment (i.e. housing allowances, cost of living allowances, payments under Enron’s Tax Equalization Program, etc.). May also include payments provided with respect to employment agreements, as well as imputed income amounts for such things as use of corporate aircraft. |\n",
    "| expenses  | Reflects reimbursements of business expenses. May include fees paid for consulting services |\n",
    "| director_fees | Reflects cash payments and/or value of stock grants made in lieu of cash payments to non-employee directors. | \n",
    "| total_payments  | cumulative of all payments |\n",
    "  \n",
    "Stock features  \n",
    "\n",
    "| Feature | meaning |\n",
    "|: -------|:--------|\n",
    "| exercised_stock_options | Reflects amounts from exercised stock options which equal the market value in excess of the exercise price on the date the options were exercised either through cashless (same-day sale), stock swap or cash exercises. The reflected gain may differ from that realized by the insider due to fluctuations in the market price and the timing of any subsequent sale of the securities. |\n",
    "| restricted_stock | Reflects the gross fair market value of shares and accrued dividends (and/or phantom units and dividend equivalents) on the date of release due to lapse of vesting periods, regardless of whether deferred. |\n",
    "| restricted_stock_deferred  | Reflects value of restricted stock voluntarily deferred prior to release under a deferred compensation arrangement. |\n",
    "| total_stock_value | cumulative value of stock |\n",
    "  \n",
    "email features  \n",
    "  \n",
    "| Feature | meaning |\n",
    "|: -------|:--------|\n",
    "| from_poi_to_this_person  | emails send from POI to this person |\n",
    "| shared_receipt_with_poi  | emails which were also send to a POI |\n",
    "| from_this_person_to_poi  | emails sent from this person to POI |\n",
    "| to_messages | total messages to this person |\n",
    "| from_messages | total messages from this person |\n",
    "  \n",
    "and then of course if the person is a poi, in this case identified as either sentenced or someone who took a plea deal as noted in this article : http://usatoday30.usatoday.com/money/industries/energy/2005-12-28-enron-participants_x.htm and provided in the poi_names.txt\n",
    "\n",
    "| Feature | meaning |\n",
    "|---------|---------|\n",
    "| poi  | person of interest |"
   ]
  },
  {
   "cell_type": "markdown",
   "metadata": {},
   "source": [
    "We can see that there is some disparacy in availability of the data, we need to check if that is because it is non existent (someone didn't get a bonus) or non-available (emails not available for instance)\n",
    "\n",
    "I would like to rearrange the columns in he following order to make it a bit more organized and get rid of the email address, since that does not say anything that we cannot get from the name already:\n",
    "\n",
    "| POI | Payment columns | Stock Columns | Emails |"
   ]
  },
  {
   "cell_type": "code",
   "execution_count": 6,
   "metadata": {},
   "outputs": [],
   "source": [
    "col_order = ['poi', \n",
    "             'salary', \n",
    "             'bonus', \n",
    "             'long_term_incentive', \n",
    "             'deferred_income',\n",
    "             'deferral_payments', \n",
    "             'loan_advances', \n",
    "             'other', \n",
    "             'expenses', \n",
    "             'director_fees',\n",
    "             'total_payments', \n",
    "             'exercised_stock_options', \n",
    "             'restricted_stock',\n",
    "             'restricted_stock_deferred', \n",
    "             'total_stock_value',\n",
    "             'from_poi_to_this_person', \n",
    "             'shared_receipt_with_poi', \n",
    "             'from_this_person_to_poi', \n",
    "             'to_messages',\n",
    "             'from_messages']\n",
    "\n",
    "payment_columns = ['salary', \n",
    "                   'bonus', \n",
    "                   'long_term_incentive', \n",
    "                   'deferred_income',\n",
    "                   'deferral_payments', \n",
    "                   'loan_advances', \n",
    "                   'other', \n",
    "                   'expenses', \n",
    "                   'director_fees',\n",
    "                   'total_payments']\n",
    "\n",
    "stock_columns = ['exercised_stock_options', \n",
    "                 'restricted_stock',\n",
    "                 'restricted_stock_deferred', \n",
    "                 'total_stock_value']\n",
    "\n",
    "email_columns = ['from_poi_to_this_person', \n",
    "                 'shared_receipt_with_poi', \n",
    "                 'from_this_person_to_poi', \n",
    "                 'to_messages',\n",
    "                 'from_messages']\n",
    "enron_df = enron_df[col_order]"
   ]
  },
  {
   "cell_type": "code",
   "execution_count": 7,
   "metadata": {},
   "outputs": [
    {
     "data": {
      "text/html": [
       "<div>\n",
       "<style scoped>\n",
       "    .dataframe tbody tr th:only-of-type {\n",
       "        vertical-align: middle;\n",
       "    }\n",
       "\n",
       "    .dataframe tbody tr th {\n",
       "        vertical-align: top;\n",
       "    }\n",
       "\n",
       "    .dataframe thead th {\n",
       "        text-align: right;\n",
       "    }\n",
       "</style>\n",
       "<table border=\"1\" class=\"dataframe\">\n",
       "  <thead>\n",
       "    <tr style=\"text-align: right;\">\n",
       "      <th></th>\n",
       "      <th>salary</th>\n",
       "      <th>bonus</th>\n",
       "      <th>long_term_incentive</th>\n",
       "      <th>deferred_income</th>\n",
       "      <th>deferral_payments</th>\n",
       "      <th>loan_advances</th>\n",
       "      <th>other</th>\n",
       "      <th>expenses</th>\n",
       "      <th>director_fees</th>\n",
       "      <th>total_payments</th>\n",
       "      <th>exercised_stock_options</th>\n",
       "      <th>restricted_stock</th>\n",
       "      <th>restricted_stock_deferred</th>\n",
       "      <th>total_stock_value</th>\n",
       "      <th>from_poi_to_this_person</th>\n",
       "      <th>shared_receipt_with_poi</th>\n",
       "      <th>from_this_person_to_poi</th>\n",
       "      <th>to_messages</th>\n",
       "      <th>from_messages</th>\n",
       "    </tr>\n",
       "  </thead>\n",
       "  <tbody>\n",
       "    <tr>\n",
       "      <th>count</th>\n",
       "      <td>9.400000e+01</td>\n",
       "      <td>8.100000e+01</td>\n",
       "      <td>6.500000e+01</td>\n",
       "      <td>4.800000e+01</td>\n",
       "      <td>3.800000e+01</td>\n",
       "      <td>3.000000e+00</td>\n",
       "      <td>9.100000e+01</td>\n",
       "      <td>94.000000</td>\n",
       "      <td>16.000000</td>\n",
       "      <td>1.230000e+02</td>\n",
       "      <td>1.010000e+02</td>\n",
       "      <td>1.090000e+02</td>\n",
       "      <td>1.700000e+01</td>\n",
       "      <td>1.250000e+02</td>\n",
       "      <td>86.000000</td>\n",
       "      <td>86.000000</td>\n",
       "      <td>86.000000</td>\n",
       "      <td>86.000000</td>\n",
       "      <td>86.000000</td>\n",
       "    </tr>\n",
       "    <tr>\n",
       "      <th>mean</th>\n",
       "      <td>2.840875e+05</td>\n",
       "      <td>1.201773e+06</td>\n",
       "      <td>7.464912e+05</td>\n",
       "      <td>-5.810498e+05</td>\n",
       "      <td>8.416025e+05</td>\n",
       "      <td>2.797500e+07</td>\n",
       "      <td>4.664105e+05</td>\n",
       "      <td>54192.010638</td>\n",
       "      <td>89822.875000</td>\n",
       "      <td>2.641806e+06</td>\n",
       "      <td>2.959559e+06</td>\n",
       "      <td>1.147424e+06</td>\n",
       "      <td>6.218928e+05</td>\n",
       "      <td>3.352073e+06</td>\n",
       "      <td>64.895349</td>\n",
       "      <td>1176.465116</td>\n",
       "      <td>41.232558</td>\n",
       "      <td>2073.860465</td>\n",
       "      <td>608.790698</td>\n",
       "    </tr>\n",
       "    <tr>\n",
       "      <th>std</th>\n",
       "      <td>1.771311e+05</td>\n",
       "      <td>1.441679e+06</td>\n",
       "      <td>8.629174e+05</td>\n",
       "      <td>9.420764e+05</td>\n",
       "      <td>1.289323e+06</td>\n",
       "      <td>4.638256e+07</td>\n",
       "      <td>1.397376e+06</td>\n",
       "      <td>46108.377454</td>\n",
       "      <td>41112.700735</td>\n",
       "      <td>9.524694e+06</td>\n",
       "      <td>5.499450e+06</td>\n",
       "      <td>2.249770e+06</td>\n",
       "      <td>3.845528e+06</td>\n",
       "      <td>6.532883e+06</td>\n",
       "      <td>86.979244</td>\n",
       "      <td>1178.317641</td>\n",
       "      <td>100.073111</td>\n",
       "      <td>2582.700981</td>\n",
       "      <td>1841.033949</td>\n",
       "    </tr>\n",
       "    <tr>\n",
       "      <th>min</th>\n",
       "      <td>4.770000e+02</td>\n",
       "      <td>7.000000e+04</td>\n",
       "      <td>6.922300e+04</td>\n",
       "      <td>-3.504386e+06</td>\n",
       "      <td>-1.025000e+05</td>\n",
       "      <td>4.000000e+05</td>\n",
       "      <td>2.000000e+00</td>\n",
       "      <td>148.000000</td>\n",
       "      <td>3285.000000</td>\n",
       "      <td>1.480000e+02</td>\n",
       "      <td>3.285000e+03</td>\n",
       "      <td>-2.604490e+06</td>\n",
       "      <td>-1.787380e+06</td>\n",
       "      <td>-4.409300e+04</td>\n",
       "      <td>0.000000</td>\n",
       "      <td>2.000000</td>\n",
       "      <td>0.000000</td>\n",
       "      <td>57.000000</td>\n",
       "      <td>12.000000</td>\n",
       "    </tr>\n",
       "    <tr>\n",
       "      <th>25%</th>\n",
       "      <td>2.118020e+05</td>\n",
       "      <td>4.250000e+05</td>\n",
       "      <td>2.750000e+05</td>\n",
       "      <td>-6.112092e+05</td>\n",
       "      <td>7.964450e+04</td>\n",
       "      <td>1.200000e+06</td>\n",
       "      <td>1.203000e+03</td>\n",
       "      <td>22479.000000</td>\n",
       "      <td>83674.500000</td>\n",
       "      <td>3.969340e+05</td>\n",
       "      <td>5.067650e+05</td>\n",
       "      <td>2.520550e+05</td>\n",
       "      <td>-3.298250e+05</td>\n",
       "      <td>4.941360e+05</td>\n",
       "      <td>10.000000</td>\n",
       "      <td>249.750000</td>\n",
       "      <td>1.000000</td>\n",
       "      <td>541.250000</td>\n",
       "      <td>22.750000</td>\n",
       "    </tr>\n",
       "    <tr>\n",
       "      <th>50%</th>\n",
       "      <td>2.587410e+05</td>\n",
       "      <td>7.500000e+05</td>\n",
       "      <td>4.221580e+05</td>\n",
       "      <td>-1.519270e+05</td>\n",
       "      <td>2.210635e+05</td>\n",
       "      <td>2.000000e+06</td>\n",
       "      <td>5.158700e+04</td>\n",
       "      <td>46547.500000</td>\n",
       "      <td>106164.500000</td>\n",
       "      <td>1.101393e+06</td>\n",
       "      <td>1.297049e+06</td>\n",
       "      <td>4.410960e+05</td>\n",
       "      <td>-1.402640e+05</td>\n",
       "      <td>1.095040e+06</td>\n",
       "      <td>35.000000</td>\n",
       "      <td>740.500000</td>\n",
       "      <td>8.000000</td>\n",
       "      <td>1211.000000</td>\n",
       "      <td>41.000000</td>\n",
       "    </tr>\n",
       "    <tr>\n",
       "      <th>75%</th>\n",
       "      <td>3.086065e+05</td>\n",
       "      <td>1.200000e+06</td>\n",
       "      <td>8.318090e+05</td>\n",
       "      <td>-3.792600e+04</td>\n",
       "      <td>8.672112e+05</td>\n",
       "      <td>4.176250e+07</td>\n",
       "      <td>3.319830e+05</td>\n",
       "      <td>78408.500000</td>\n",
       "      <td>112815.000000</td>\n",
       "      <td>2.087530e+06</td>\n",
       "      <td>2.542813e+06</td>\n",
       "      <td>9.850320e+05</td>\n",
       "      <td>-7.241900e+04</td>\n",
       "      <td>2.606763e+06</td>\n",
       "      <td>72.250000</td>\n",
       "      <td>1888.250000</td>\n",
       "      <td>24.750000</td>\n",
       "      <td>2634.750000</td>\n",
       "      <td>145.500000</td>\n",
       "    </tr>\n",
       "    <tr>\n",
       "      <th>max</th>\n",
       "      <td>1.111258e+06</td>\n",
       "      <td>8.000000e+06</td>\n",
       "      <td>5.145434e+06</td>\n",
       "      <td>-8.330000e+02</td>\n",
       "      <td>6.426990e+06</td>\n",
       "      <td>8.152500e+07</td>\n",
       "      <td>1.035973e+07</td>\n",
       "      <td>228763.000000</td>\n",
       "      <td>137864.000000</td>\n",
       "      <td>1.035598e+08</td>\n",
       "      <td>3.434838e+07</td>\n",
       "      <td>1.476169e+07</td>\n",
       "      <td>1.545629e+07</td>\n",
       "      <td>4.911008e+07</td>\n",
       "      <td>528.000000</td>\n",
       "      <td>5521.000000</td>\n",
       "      <td>609.000000</td>\n",
       "      <td>15149.000000</td>\n",
       "      <td>14368.000000</td>\n",
       "    </tr>\n",
       "  </tbody>\n",
       "</table>\n",
       "</div>"
      ],
      "text/plain": [
       "             salary         bonus  long_term_incentive  deferred_income  \\\n",
       "count  9.400000e+01  8.100000e+01         6.500000e+01     4.800000e+01   \n",
       "mean   2.840875e+05  1.201773e+06         7.464912e+05    -5.810498e+05   \n",
       "std    1.771311e+05  1.441679e+06         8.629174e+05     9.420764e+05   \n",
       "min    4.770000e+02  7.000000e+04         6.922300e+04    -3.504386e+06   \n",
       "25%    2.118020e+05  4.250000e+05         2.750000e+05    -6.112092e+05   \n",
       "50%    2.587410e+05  7.500000e+05         4.221580e+05    -1.519270e+05   \n",
       "75%    3.086065e+05  1.200000e+06         8.318090e+05    -3.792600e+04   \n",
       "max    1.111258e+06  8.000000e+06         5.145434e+06    -8.330000e+02   \n",
       "\n",
       "       deferral_payments  loan_advances         other       expenses  \\\n",
       "count       3.800000e+01   3.000000e+00  9.100000e+01      94.000000   \n",
       "mean        8.416025e+05   2.797500e+07  4.664105e+05   54192.010638   \n",
       "std         1.289323e+06   4.638256e+07  1.397376e+06   46108.377454   \n",
       "min        -1.025000e+05   4.000000e+05  2.000000e+00     148.000000   \n",
       "25%         7.964450e+04   1.200000e+06  1.203000e+03   22479.000000   \n",
       "50%         2.210635e+05   2.000000e+06  5.158700e+04   46547.500000   \n",
       "75%         8.672112e+05   4.176250e+07  3.319830e+05   78408.500000   \n",
       "max         6.426990e+06   8.152500e+07  1.035973e+07  228763.000000   \n",
       "\n",
       "       director_fees  total_payments  exercised_stock_options  \\\n",
       "count      16.000000    1.230000e+02             1.010000e+02   \n",
       "mean    89822.875000    2.641806e+06             2.959559e+06   \n",
       "std     41112.700735    9.524694e+06             5.499450e+06   \n",
       "min      3285.000000    1.480000e+02             3.285000e+03   \n",
       "25%     83674.500000    3.969340e+05             5.067650e+05   \n",
       "50%    106164.500000    1.101393e+06             1.297049e+06   \n",
       "75%    112815.000000    2.087530e+06             2.542813e+06   \n",
       "max    137864.000000    1.035598e+08             3.434838e+07   \n",
       "\n",
       "       restricted_stock  restricted_stock_deferred  total_stock_value  \\\n",
       "count      1.090000e+02               1.700000e+01       1.250000e+02   \n",
       "mean       1.147424e+06               6.218928e+05       3.352073e+06   \n",
       "std        2.249770e+06               3.845528e+06       6.532883e+06   \n",
       "min       -2.604490e+06              -1.787380e+06      -4.409300e+04   \n",
       "25%        2.520550e+05              -3.298250e+05       4.941360e+05   \n",
       "50%        4.410960e+05              -1.402640e+05       1.095040e+06   \n",
       "75%        9.850320e+05              -7.241900e+04       2.606763e+06   \n",
       "max        1.476169e+07               1.545629e+07       4.911008e+07   \n",
       "\n",
       "       from_poi_to_this_person  shared_receipt_with_poi  \\\n",
       "count                86.000000                86.000000   \n",
       "mean                 64.895349              1176.465116   \n",
       "std                  86.979244              1178.317641   \n",
       "min                   0.000000                 2.000000   \n",
       "25%                  10.000000               249.750000   \n",
       "50%                  35.000000               740.500000   \n",
       "75%                  72.250000              1888.250000   \n",
       "max                 528.000000              5521.000000   \n",
       "\n",
       "       from_this_person_to_poi   to_messages  from_messages  \n",
       "count                86.000000     86.000000      86.000000  \n",
       "mean                 41.232558   2073.860465     608.790698  \n",
       "std                 100.073111   2582.700981    1841.033949  \n",
       "min                   0.000000     57.000000      12.000000  \n",
       "25%                   1.000000    541.250000      22.750000  \n",
       "50%                   8.000000   1211.000000      41.000000  \n",
       "75%                  24.750000   2634.750000     145.500000  \n",
       "max                 609.000000  15149.000000   14368.000000  "
      ]
     },
     "execution_count": 7,
     "metadata": {},
     "output_type": "execute_result"
    }
   ],
   "source": [
    "enron_df.describe()"
   ]
  },
  {
   "cell_type": "markdown",
   "metadata": {},
   "source": [
    "What we can notice from these is that there is a significant difference in magnitude between the features (like emails and salary), so I expect scaling to be applied later on.  \n",
    "\n",
    "Looking at the insiderpay document, the NaN values in these columns are actually 0, so we can replace these:"
   ]
  },
  {
   "cell_type": "code",
   "execution_count": 8,
   "metadata": {},
   "outputs": [],
   "source": [
    "#fix for both df and dict\n",
    "enron_df[payment_columns + stock_columns] = enron_df[payment_columns + stock_columns].fillna(0)\n",
    "enron_data = replace_nan_ndict(enron_data)"
   ]
  },
  {
   "cell_type": "markdown",
   "metadata": {},
   "source": [
    "it also looks like there are some outliers, let's have a look:\n",
    "\n",
    "### Outliers\n",
    "The first inspection will be visual on some of the most available features, and the two conglomerate features (totals)"
   ]
  },
  {
   "cell_type": "code",
   "execution_count": 17,
   "metadata": {},
   "outputs": [
    {
     "data": {
      "text/plain": [
       "<seaborn.axisgrid.PairGrid at 0x21a363c8>"
      ]
     },
     "execution_count": 17,
     "metadata": {},
     "output_type": "execute_result"
    },
    {
     "data": {
      "image/png": "[encoded data removed]",
      "text/plain": [
       "<Figure size 782.125x720 with 20 Axes>"
      ]
     },
     "metadata": {
      "needs_background": "light"
     },
     "output_type": "display_data"
    }
   ],
   "source": [
    "sns.pairplot(data=enron_df, vars=['salary', 'restricted_stock','total_payments', 'total_stock_value'], hue=\"poi\")"
   ]
  },
  {
   "cell_type": "markdown",
   "metadata": {},
   "source": [
    "We can see that there are some outliers to the top for all features and one point that looks odd on the negative side at restricted_stock.\n",
    "\n",
    "Let's have a look at some outliers:"
   ]
  },
  {
   "cell_type": "code",
   "execution_count": 18,
   "metadata": {
    "scrolled": true
   },
   "outputs": [
    {
     "name": "stdout",
     "output_type": "stream",
     "text": [
      "                       salary\n",
      "SKILLING JEFFREY K  1111258.0\n",
      "LAY KENNETH L       1072321.0\n",
      "FREVERT MARK A      1060932.0\n",
      "PICKERING MARK R     655037.0\n",
      "WHALLEY LAWRENCE G   510364.0\n",
      "######################################################\n",
      "                    total_payments\n",
      "LAY KENNETH L          103559793.0\n",
      "FREVERT MARK A          17252530.0\n",
      "BHATNAGAR SANJAY        15456290.0\n",
      "LAVORATO JOHN J         10425757.0\n",
      "SKILLING JEFFREY K       8682716.0\n",
      "######################################################\n",
      "                    restricted_stock\n",
      "LAY KENNETH L             14761694.0\n",
      "WHITE JR THOMAS E         13847074.0\n",
      "PAI LOU L                  8453763.0\n",
      "SKILLING JEFFREY K         6843672.0\n",
      "FREVERT MARK A             4188667.0\n",
      "######################################################\n",
      "                    total_stock_value\n",
      "LAY KENNETH L              49110078.0\n",
      "HIRKO JOSEPH               30766064.0\n",
      "SKILLING JEFFREY K         26093672.0\n",
      "PAI LOU L                  23817930.0\n",
      "RICE KENNETH D             22542539.0\n",
      "######################################################\n"
     ]
    }
   ],
   "source": [
    "for clm in ['salary', 'total_payments', 'restricted_stock','total_stock_value']:\n",
    "    print(enron_df.sort_values(clm,ascending=False)[[clm]].head(5))\n",
    "    print(\"######################################################\")"
   ]
  },
  {
   "cell_type": "markdown",
   "metadata": {},
   "source": [
    "The disparity between payments at the top is quite high, but it does not seem to be out of the scope, especially since the top 1 is usually either Kenneth Lay, who is a POI or Jeffrey Skilling, who is also a POI."
   ]
  },
  {
   "cell_type": "markdown",
   "metadata": {},
   "source": [
    "Let's check the the minima:"
   ]
  },
  {
   "cell_type": "code",
   "execution_count": 19,
   "metadata": {
    "scrolled": false
   },
   "outputs": [
    {
     "name": "stdout",
     "output_type": "stream",
     "text": [
      "                   salary\n",
      "JAEDICKE ROBERT       0.0\n",
      "MCCARTY DANNY J       0.0\n",
      "LOWRY CHARLES P       0.0\n",
      "LOCKHART EUGENE E     0.0\n",
      "LEWIS RICHARD         0.0\n",
      "######################################################\n",
      "                        total_payments\n",
      "LOWRY CHARLES P                    0.0\n",
      "LEWIS RICHARD                      0.0\n",
      "LOCKHART EUGENE E                  0.0\n",
      "CHRISTODOULOU DIOMEDES             0.0\n",
      "FOWLER PEGGY                       0.0\n",
      "######################################################\n",
      "                         restricted_stock\n",
      "BHATNAGAR SANJAY               -2604490.0\n",
      "YEAP SOON                             0.0\n",
      "PEREIRA PAULO V. FERRAZ               0.0\n",
      "MEYER JEROME J                        0.0\n",
      "MENDELSOHN JOHN                       0.0\n",
      "######################################################\n",
      "                         total_stock_value\n",
      "BELFER ROBERT                     -44093.0\n",
      "CHAN RONNIE                            0.0\n",
      "MENDELSOHN JOHN                        0.0\n",
      "PEREIRA PAULO V. FERRAZ                0.0\n",
      "LOCKHART EUGENE E                      0.0\n",
      "######################################################\n"
     ]
    }
   ],
   "source": [
    "for clm in ['salary', 'total_payments', 'restricted_stock','total_stock_value']:\n",
    "    print(enron_df.sort_values(clm,ascending=True)[[clm]].head(5))\n",
    "    print(\"######################################################\")"
   ]
  },
  {
   "cell_type": "markdown",
   "metadata": {},
   "source": [
    "BELFER ROBERT and BHATNAGAR SANJAY have a negative value in columns where only positive values are expected. If we show these: "
   ]
  },
  {
   "cell_type": "code",
   "execution_count": 20,
   "metadata": {},
   "outputs": [
    {
     "data": {
      "text/plain": [
       "poi                           False\n",
       "salary                            0\n",
       "bonus                             0\n",
       "long_term_incentive               0\n",
       "deferred_income                   0\n",
       "deferral_payments           -102500\n",
       "loan_advances                     0\n",
       "other                             0\n",
       "expenses                          0\n",
       "director_fees                  3285\n",
       "total_payments               102500\n",
       "exercised_stock_options        3285\n",
       "restricted_stock                  0\n",
       "restricted_stock_deferred     44093\n",
       "total_stock_value            -44093\n",
       "from_poi_to_this_person         NaN\n",
       "shared_receipt_with_poi         NaN\n",
       "from_this_person_to_poi         NaN\n",
       "to_messages                     NaN\n",
       "from_messages                   NaN\n",
       "Name: BELFER ROBERT, dtype: object"
      ]
     },
     "execution_count": 20,
     "metadata": {},
     "output_type": "execute_result"
    }
   ],
   "source": [
    "enron_df.loc['BELFER ROBERT']"
   ]
  },
  {
   "cell_type": "code",
   "execution_count": 21,
   "metadata": {
    "scrolled": false
   },
   "outputs": [
    {
     "data": {
      "text/plain": [
       "poi                                False\n",
       "salary                                 0\n",
       "bonus                                  0\n",
       "long_term_incentive                    0\n",
       "deferred_income                        0\n",
       "deferral_payments                      0\n",
       "loan_advances                          0\n",
       "other                             137864\n",
       "expenses                               0\n",
       "director_fees                     137864\n",
       "total_payments               1.54563e+07\n",
       "exercised_stock_options      2.60449e+06\n",
       "restricted_stock            -2.60449e+06\n",
       "restricted_stock_deferred    1.54563e+07\n",
       "total_stock_value                      0\n",
       "from_poi_to_this_person                0\n",
       "shared_receipt_with_poi              463\n",
       "from_this_person_to_poi                1\n",
       "to_messages                          523\n",
       "from_messages                         29\n",
       "Name: BHATNAGAR SANJAY, dtype: object"
      ]
     },
     "execution_count": 21,
     "metadata": {},
     "output_type": "execute_result"
    }
   ],
   "source": [
    "enron_df.loc['BHATNAGAR SANJAY']"
   ]
  },
  {
   "cell_type": "markdown",
   "metadata": {},
   "source": [
    "When we compare these with the original pdf, the columns shifted, so I fix it in the dictionary"
   ]
  },
  {
   "cell_type": "code",
   "execution_count": 22,
   "metadata": {},
   "outputs": [],
   "source": [
    "enron_data['BHATNAGAR SANJAY'] = {'salary': 0,\n",
    " 'to_messages': 523,\n",
    " 'total_stock_value': 15456290,\n",
    " 'deferral_payments': 0,\n",
    " 'total_payments': 137864,\n",
    " 'loan_advances': 0,\n",
    " 'bonus': 0,\n",
    " 'email_address': 'sanjay.bhatnagar@enron.com',\n",
    " 'restricted_stock_deferred': -2604490,\n",
    " 'deferred_income': 0,\n",
    " 'expenses': 137864,\n",
    " 'from_poi_to_this_person': 0,\n",
    " 'exercised_stock_options': 15456290,\n",
    " 'from_messages': 29,\n",
    " 'other': 0,\n",
    " 'from_this_person_to_poi': 1,\n",
    " 'poi': False,\n",
    " 'long_term_incentive': 0,\n",
    " 'shared_receipt_with_poi': 463,\n",
    " 'restricted_stock': 2604490,\n",
    " 'director_fees': 0}\n",
    "\n",
    "enron_data['BELFER ROBERT'] = {'salary': 0,\n",
    " 'to_messages': 0,\n",
    " 'deferral_payments': 0,\n",
    " 'total_payments': 3285,\n",
    " 'loan_advances': 0,\n",
    " 'bonus': 0,\n",
    " 'email_address': 0,\n",
    " 'restricted_stock_deferred': -44093,\n",
    " 'deferred_income': -102500,\n",
    " 'total_stock_value': 0,\n",
    " 'expenses': 3285,\n",
    " 'from_poi_to_this_person': 0,\n",
    " 'exercised_stock_options': 0,\n",
    " 'from_messages': 0,\n",
    " 'other': 0,\n",
    " 'from_this_person_to_poi': 0,\n",
    " 'poi': False,\n",
    " 'long_term_incentive': 0,\n",
    " 'shared_receipt_with_poi': 0,\n",
    " 'restricted_stock': 44093,\n",
    " 'director_fees': 102500}\n"
   ]
  },
  {
   "cell_type": "markdown",
   "metadata": {},
   "source": [
    "check if there is anybody without financial information: "
   ]
  },
  {
   "cell_type": "code",
   "execution_count": 23,
   "metadata": {
    "scrolled": true
   },
   "outputs": [
    {
     "data": {
      "text/html": [
       "<div>\n",
       "<style scoped>\n",
       "    .dataframe tbody tr th:only-of-type {\n",
       "        vertical-align: middle;\n",
       "    }\n",
       "\n",
       "    .dataframe tbody tr th {\n",
       "        vertical-align: top;\n",
       "    }\n",
       "\n",
       "    .dataframe thead th {\n",
       "        text-align: right;\n",
       "    }\n",
       "</style>\n",
       "<table border=\"1\" class=\"dataframe\">\n",
       "  <thead>\n",
       "    <tr style=\"text-align: right;\">\n",
       "      <th></th>\n",
       "      <th>poi</th>\n",
       "      <th>salary</th>\n",
       "      <th>bonus</th>\n",
       "      <th>long_term_incentive</th>\n",
       "      <th>deferred_income</th>\n",
       "      <th>deferral_payments</th>\n",
       "      <th>loan_advances</th>\n",
       "      <th>other</th>\n",
       "      <th>expenses</th>\n",
       "      <th>director_fees</th>\n",
       "      <th>total_payments</th>\n",
       "      <th>exercised_stock_options</th>\n",
       "      <th>restricted_stock</th>\n",
       "      <th>restricted_stock_deferred</th>\n",
       "      <th>total_stock_value</th>\n",
       "      <th>from_poi_to_this_person</th>\n",
       "      <th>shared_receipt_with_poi</th>\n",
       "      <th>from_this_person_to_poi</th>\n",
       "      <th>to_messages</th>\n",
       "      <th>from_messages</th>\n",
       "    </tr>\n",
       "  </thead>\n",
       "  <tbody>\n",
       "    <tr>\n",
       "      <th>LOCKHART EUGENE E</th>\n",
       "      <td>False</td>\n",
       "      <td>0.0</td>\n",
       "      <td>0.0</td>\n",
       "      <td>0.0</td>\n",
       "      <td>0.0</td>\n",
       "      <td>0.0</td>\n",
       "      <td>0.0</td>\n",
       "      <td>0.0</td>\n",
       "      <td>0.0</td>\n",
       "      <td>0.0</td>\n",
       "      <td>0.0</td>\n",
       "      <td>0.0</td>\n",
       "      <td>0.0</td>\n",
       "      <td>0.0</td>\n",
       "      <td>0.0</td>\n",
       "      <td>NaN</td>\n",
       "      <td>NaN</td>\n",
       "      <td>NaN</td>\n",
       "      <td>NaN</td>\n",
       "      <td>NaN</td>\n",
       "    </tr>\n",
       "  </tbody>\n",
       "</table>\n",
       "</div>"
      ],
      "text/plain": [
       "                     poi  salary  bonus  long_term_incentive  deferred_income  \\\n",
       "LOCKHART EUGENE E  False     0.0    0.0                  0.0              0.0   \n",
       "\n",
       "                   deferral_payments  loan_advances  other  expenses  \\\n",
       "LOCKHART EUGENE E                0.0            0.0    0.0       0.0   \n",
       "\n",
       "                   director_fees  total_payments  exercised_stock_options  \\\n",
       "LOCKHART EUGENE E            0.0             0.0                      0.0   \n",
       "\n",
       "                   restricted_stock  restricted_stock_deferred  \\\n",
       "LOCKHART EUGENE E               0.0                        0.0   \n",
       "\n",
       "                   total_stock_value  from_poi_to_this_person  \\\n",
       "LOCKHART EUGENE E                0.0                      NaN   \n",
       "\n",
       "                   shared_receipt_with_poi  from_this_person_to_poi  \\\n",
       "LOCKHART EUGENE E                      NaN                      NaN   \n",
       "\n",
       "                   to_messages  from_messages  \n",
       "LOCKHART EUGENE E          NaN            NaN  "
      ]
     },
     "execution_count": 23,
     "metadata": {},
     "output_type": "execute_result"
    }
   ],
   "source": [
    "enron_df[(enron_df[payment_columns + stock_columns] == 0).all(axis=1)]"
   ]
  },
  {
   "cell_type": "markdown",
   "metadata": {},
   "source": [
    "It seems he does not have any email info either, so I don't think he contributes anything to the dataset, so we remove him:"
   ]
  },
  {
   "cell_type": "code",
   "execution_count": 24,
   "metadata": {},
   "outputs": [],
   "source": [
    "enron_data = remove_keys(enron_data, ['LOCKHART EUGENE E'])"
   ]
  },
  {
   "cell_type": "markdown",
   "metadata": {},
   "source": [
    "Once more we have a look at the outliers for the clean dataset:"
   ]
  },
  {
   "cell_type": "code",
   "execution_count": 25,
   "metadata": {},
   "outputs": [
    {
     "data": {
      "image/png": "[encoded data removed]",
      "text/plain": [
       "<Figure size 432x288 with 1 Axes>"
      ]
     },
     "metadata": {
      "needs_background": "light"
     },
     "output_type": "display_data"
    },
    {
     "data": {
      "image/png": "[encoded data removed]",
      "text/plain": [
       "<Figure size 432x288 with 1 Axes>"
      ]
     },
     "metadata": {
      "needs_background": "light"
     },
     "output_type": "display_data"
    },
    {
     "data": {
      "image/png": "[encoded data removed]",
      "text/plain": [
       "<Figure size 432x288 with 1 Axes>"
      ]
     },
     "metadata": {
      "needs_background": "light"
     },
     "output_type": "display_data"
    },
    {
     "data": {
      "image/png": "[encoded data removed]",
      "text/plain": [
       "<Figure size 432x288 with 1 Axes>"
      ]
     },
     "metadata": {
      "needs_background": "light"
     },
     "output_type": "display_data"
    },
    {
     "data": {
      "image/png": "[encoded data removed]",
      "text/plain": [
       "<Figure size 432x288 with 1 Axes>"
      ]
     },
     "metadata": {
      "needs_background": "light"
     },
     "output_type": "display_data"
    },
    {
     "data": {
      "image/png": "[encoded data removed]",
      "text/plain": [
       "<Figure size 432x288 with 1 Axes>"
      ]
     },
     "metadata": {
      "needs_background": "light"
     },
     "output_type": "display_data"
    },
    {
     "data": {
      "image/png": "[encoded data removed]",
      "text/plain": [
       "<Figure size 432x288 with 1 Axes>"
      ]
     },
     "metadata": {
      "needs_background": "light"
     },
     "output_type": "display_data"
    },
    {
     "data": {
      "image/png": "[encoded data removed]",
      "text/plain": [
       "<Figure size 432x288 with 1 Axes>"
      ]
     },
     "metadata": {
      "needs_background": "light"
     },
     "output_type": "display_data"
    },
    {
     "data": {
      "image/png": "[encoded data removed]",
      "text/plain": [
       "<Figure size 432x288 with 1 Axes>"
      ]
     },
     "metadata": {
      "needs_background": "light"
     },
     "output_type": "display_data"
    },
    {
     "data": {
      "image/png": "[encoded data removed]",
      "text/plain": [
       "<Figure size 432x288 with 1 Axes>"
      ]
     },
     "metadata": {
      "needs_background": "light"
     },
     "output_type": "display_data"
    }
   ],
   "source": [
    "enron_df = pd.DataFrame.from_dict(enron_data)\n",
    "enron_df = enron_df.transpose() #transpose\n",
    "enron_df = enron_df[col_order].replace('NaN', np.nan).fillna(0)\n",
    "\n",
    "for clm in payment_columns:\n",
    "    plt.figure()\n",
    "    enron_df.boxplot(column = [clm], figsize = (5,5))"
   ]
  },
  {
   "cell_type": "code",
   "execution_count": 26,
   "metadata": {},
   "outputs": [
    {
     "data": {
      "text/html": [
       "<div>\n",
       "<style scoped>\n",
       "    .dataframe tbody tr th:only-of-type {\n",
       "        vertical-align: middle;\n",
       "    }\n",
       "\n",
       "    .dataframe tbody tr th {\n",
       "        vertical-align: top;\n",
       "    }\n",
       "\n",
       "    .dataframe thead th {\n",
       "        text-align: right;\n",
       "    }\n",
       "</style>\n",
       "<table border=\"1\" class=\"dataframe\">\n",
       "  <thead>\n",
       "    <tr style=\"text-align: right;\">\n",
       "      <th></th>\n",
       "      <th>salary</th>\n",
       "      <th>bonus</th>\n",
       "      <th>long_term_incentive</th>\n",
       "      <th>deferred_income</th>\n",
       "      <th>deferral_payments</th>\n",
       "      <th>loan_advances</th>\n",
       "      <th>other</th>\n",
       "      <th>expenses</th>\n",
       "      <th>director_fees</th>\n",
       "      <th>total_payments</th>\n",
       "      <th>exercised_stock_options</th>\n",
       "      <th>restricted_stock</th>\n",
       "      <th>restricted_stock_deferred</th>\n",
       "      <th>total_stock_value</th>\n",
       "      <th>from_poi_to_this_person</th>\n",
       "      <th>shared_receipt_with_poi</th>\n",
       "      <th>from_this_person_to_poi</th>\n",
       "      <th>to_messages</th>\n",
       "      <th>from_messages</th>\n",
       "    </tr>\n",
       "  </thead>\n",
       "  <tbody>\n",
       "    <tr>\n",
       "      <th>count</th>\n",
       "      <td>1.430000e+02</td>\n",
       "      <td>1.430000e+02</td>\n",
       "      <td>1.430000e+02</td>\n",
       "      <td>1.430000e+02</td>\n",
       "      <td>1.430000e+02</td>\n",
       "      <td>1.430000e+02</td>\n",
       "      <td>1.430000e+02</td>\n",
       "      <td>143.000000</td>\n",
       "      <td>143.000000</td>\n",
       "      <td>1.430000e+02</td>\n",
       "      <td>1.430000e+02</td>\n",
       "      <td>1.430000e+02</td>\n",
       "      <td>1.430000e+02</td>\n",
       "      <td>1.430000e+02</td>\n",
       "      <td>143.000000</td>\n",
       "      <td>143.000000</td>\n",
       "      <td>143.000000</td>\n",
       "      <td>143.000000</td>\n",
       "      <td>143.000000</td>\n",
       "    </tr>\n",
       "    <tr>\n",
       "      <th>mean</th>\n",
       "      <td>1.867429e+05</td>\n",
       "      <td>6.807246e+05</td>\n",
       "      <td>3.393142e+05</td>\n",
       "      <td>-1.957545e+05</td>\n",
       "      <td>2.243594e+05</td>\n",
       "      <td>5.868881e+05</td>\n",
       "      <td>2.958426e+05</td>\n",
       "      <td>36609.776224</td>\n",
       "      <td>9779.839161</td>\n",
       "      <td>2.164507e+06</td>\n",
       "      <td>2.180168e+06</td>\n",
       "      <td>9.113447e+05</td>\n",
       "      <td>-5.298453e+04</td>\n",
       "      <td>3.038528e+06</td>\n",
       "      <td>39.027972</td>\n",
       "      <td>707.524476</td>\n",
       "      <td>24.797203</td>\n",
       "      <td>1247.216783</td>\n",
       "      <td>366.125874</td>\n",
       "    </tr>\n",
       "    <tr>\n",
       "      <th>std</th>\n",
       "      <td>1.971171e+05</td>\n",
       "      <td>1.236180e+06</td>\n",
       "      <td>6.890139e+05</td>\n",
       "      <td>6.077513e+05</td>\n",
       "      <td>7.562581e+05</td>\n",
       "      <td>6.818177e+06</td>\n",
       "      <td>1.135225e+06</td>\n",
       "      <td>46050.414344</td>\n",
       "      <td>30518.511971</td>\n",
       "      <td>8.808364e+06</td>\n",
       "      <td>4.937260e+06</td>\n",
       "      <td>2.005941e+06</td>\n",
       "      <td>2.741079e+05</td>\n",
       "      <td>6.288440e+06</td>\n",
       "      <td>74.466359</td>\n",
       "      <td>1079.457016</td>\n",
       "      <td>80.031821</td>\n",
       "      <td>2243.006069</td>\n",
       "      <td>1455.452279</td>\n",
       "    </tr>\n",
       "    <tr>\n",
       "      <th>min</th>\n",
       "      <td>0.000000e+00</td>\n",
       "      <td>0.000000e+00</td>\n",
       "      <td>0.000000e+00</td>\n",
       "      <td>-3.504386e+06</td>\n",
       "      <td>0.000000e+00</td>\n",
       "      <td>0.000000e+00</td>\n",
       "      <td>0.000000e+00</td>\n",
       "      <td>0.000000</td>\n",
       "      <td>0.000000</td>\n",
       "      <td>0.000000e+00</td>\n",
       "      <td>0.000000e+00</td>\n",
       "      <td>0.000000e+00</td>\n",
       "      <td>-2.604490e+06</td>\n",
       "      <td>0.000000e+00</td>\n",
       "      <td>0.000000</td>\n",
       "      <td>0.000000</td>\n",
       "      <td>0.000000</td>\n",
       "      <td>0.000000</td>\n",
       "      <td>0.000000</td>\n",
       "    </tr>\n",
       "    <tr>\n",
       "      <th>25%</th>\n",
       "      <td>0.000000e+00</td>\n",
       "      <td>0.000000e+00</td>\n",
       "      <td>0.000000e+00</td>\n",
       "      <td>-3.979800e+04</td>\n",
       "      <td>0.000000e+00</td>\n",
       "      <td>0.000000e+00</td>\n",
       "      <td>0.000000e+00</td>\n",
       "      <td>0.000000</td>\n",
       "      <td>0.000000</td>\n",
       "      <td>8.929250e+04</td>\n",
       "      <td>0.000000e+00</td>\n",
       "      <td>4.569850e+04</td>\n",
       "      <td>0.000000e+00</td>\n",
       "      <td>2.882120e+05</td>\n",
       "      <td>0.000000</td>\n",
       "      <td>0.000000</td>\n",
       "      <td>0.000000</td>\n",
       "      <td>0.000000</td>\n",
       "      <td>0.000000</td>\n",
       "    </tr>\n",
       "    <tr>\n",
       "      <th>50%</th>\n",
       "      <td>2.106920e+05</td>\n",
       "      <td>3.000000e+05</td>\n",
       "      <td>0.000000e+00</td>\n",
       "      <td>0.000000e+00</td>\n",
       "      <td>0.000000e+00</td>\n",
       "      <td>0.000000e+00</td>\n",
       "      <td>8.910000e+02</td>\n",
       "      <td>22344.000000</td>\n",
       "      <td>0.000000</td>\n",
       "      <td>9.161970e+05</td>\n",
       "      <td>6.087500e+05</td>\n",
       "      <td>3.634280e+05</td>\n",
       "      <td>0.000000e+00</td>\n",
       "      <td>9.850320e+05</td>\n",
       "      <td>4.000000</td>\n",
       "      <td>114.000000</td>\n",
       "      <td>0.000000</td>\n",
       "      <td>383.000000</td>\n",
       "      <td>18.000000</td>\n",
       "    </tr>\n",
       "    <tr>\n",
       "      <th>75%</th>\n",
       "      <td>2.702590e+05</td>\n",
       "      <td>8.000000e+05</td>\n",
       "      <td>3.748255e+05</td>\n",
       "      <td>0.000000e+00</td>\n",
       "      <td>9.110000e+03</td>\n",
       "      <td>0.000000e+00</td>\n",
       "      <td>1.492040e+05</td>\n",
       "      <td>54522.000000</td>\n",
       "      <td>0.000000</td>\n",
       "      <td>1.901558e+06</td>\n",
       "      <td>1.698900e+06</td>\n",
       "      <td>8.611420e+05</td>\n",
       "      <td>0.000000e+00</td>\n",
       "      <td>2.413008e+06</td>\n",
       "      <td>41.500000</td>\n",
       "      <td>967.500000</td>\n",
       "      <td>14.000000</td>\n",
       "      <td>1639.000000</td>\n",
       "      <td>54.000000</td>\n",
       "    </tr>\n",
       "    <tr>\n",
       "      <th>max</th>\n",
       "      <td>1.111258e+06</td>\n",
       "      <td>8.000000e+06</td>\n",
       "      <td>5.145434e+06</td>\n",
       "      <td>0.000000e+00</td>\n",
       "      <td>6.426990e+06</td>\n",
       "      <td>8.152500e+07</td>\n",
       "      <td>1.035973e+07</td>\n",
       "      <td>228763.000000</td>\n",
       "      <td>125034.000000</td>\n",
       "      <td>1.035598e+08</td>\n",
       "      <td>3.434838e+07</td>\n",
       "      <td>1.476169e+07</td>\n",
       "      <td>0.000000e+00</td>\n",
       "      <td>4.911008e+07</td>\n",
       "      <td>528.000000</td>\n",
       "      <td>5521.000000</td>\n",
       "      <td>609.000000</td>\n",
       "      <td>15149.000000</td>\n",
       "      <td>14368.000000</td>\n",
       "    </tr>\n",
       "  </tbody>\n",
       "</table>\n",
       "</div>"
      ],
      "text/plain": [
       "             salary         bonus  long_term_incentive  deferred_income  \\\n",
       "count  1.430000e+02  1.430000e+02         1.430000e+02     1.430000e+02   \n",
       "mean   1.867429e+05  6.807246e+05         3.393142e+05    -1.957545e+05   \n",
       "std    1.971171e+05  1.236180e+06         6.890139e+05     6.077513e+05   \n",
       "min    0.000000e+00  0.000000e+00         0.000000e+00    -3.504386e+06   \n",
       "25%    0.000000e+00  0.000000e+00         0.000000e+00    -3.979800e+04   \n",
       "50%    2.106920e+05  3.000000e+05         0.000000e+00     0.000000e+00   \n",
       "75%    2.702590e+05  8.000000e+05         3.748255e+05     0.000000e+00   \n",
       "max    1.111258e+06  8.000000e+06         5.145434e+06     0.000000e+00   \n",
       "\n",
       "       deferral_payments  loan_advances         other       expenses  \\\n",
       "count       1.430000e+02   1.430000e+02  1.430000e+02     143.000000   \n",
       "mean        2.243594e+05   5.868881e+05  2.958426e+05   36609.776224   \n",
       "std         7.562581e+05   6.818177e+06  1.135225e+06   46050.414344   \n",
       "min         0.000000e+00   0.000000e+00  0.000000e+00       0.000000   \n",
       "25%         0.000000e+00   0.000000e+00  0.000000e+00       0.000000   \n",
       "50%         0.000000e+00   0.000000e+00  8.910000e+02   22344.000000   \n",
       "75%         9.110000e+03   0.000000e+00  1.492040e+05   54522.000000   \n",
       "max         6.426990e+06   8.152500e+07  1.035973e+07  228763.000000   \n",
       "\n",
       "       director_fees  total_payments  exercised_stock_options  \\\n",
       "count     143.000000    1.430000e+02             1.430000e+02   \n",
       "mean     9779.839161    2.164507e+06             2.180168e+06   \n",
       "std     30518.511971    8.808364e+06             4.937260e+06   \n",
       "min         0.000000    0.000000e+00             0.000000e+00   \n",
       "25%         0.000000    8.929250e+04             0.000000e+00   \n",
       "50%         0.000000    9.161970e+05             6.087500e+05   \n",
       "75%         0.000000    1.901558e+06             1.698900e+06   \n",
       "max    125034.000000    1.035598e+08             3.434838e+07   \n",
       "\n",
       "       restricted_stock  restricted_stock_deferred  total_stock_value  \\\n",
       "count      1.430000e+02               1.430000e+02       1.430000e+02   \n",
       "mean       9.113447e+05              -5.298453e+04       3.038528e+06   \n",
       "std        2.005941e+06               2.741079e+05       6.288440e+06   \n",
       "min        0.000000e+00              -2.604490e+06       0.000000e+00   \n",
       "25%        4.569850e+04               0.000000e+00       2.882120e+05   \n",
       "50%        3.634280e+05               0.000000e+00       9.850320e+05   \n",
       "75%        8.611420e+05               0.000000e+00       2.413008e+06   \n",
       "max        1.476169e+07               0.000000e+00       4.911008e+07   \n",
       "\n",
       "       from_poi_to_this_person  shared_receipt_with_poi  \\\n",
       "count               143.000000               143.000000   \n",
       "mean                 39.027972               707.524476   \n",
       "std                  74.466359              1079.457016   \n",
       "min                   0.000000                 0.000000   \n",
       "25%                   0.000000                 0.000000   \n",
       "50%                   4.000000               114.000000   \n",
       "75%                  41.500000               967.500000   \n",
       "max                 528.000000              5521.000000   \n",
       "\n",
       "       from_this_person_to_poi   to_messages  from_messages  \n",
       "count               143.000000    143.000000     143.000000  \n",
       "mean                 24.797203   1247.216783     366.125874  \n",
       "std                  80.031821   2243.006069    1455.452279  \n",
       "min                   0.000000      0.000000       0.000000  \n",
       "25%                   0.000000      0.000000       0.000000  \n",
       "50%                   0.000000    383.000000      18.000000  \n",
       "75%                  14.000000   1639.000000      54.000000  \n",
       "max                 609.000000  15149.000000   14368.000000  "
      ]
     },
     "execution_count": 26,
     "metadata": {},
     "output_type": "execute_result"
    }
   ],
   "source": [
    "enron_df.describe()"
   ]
  },
  {
   "cell_type": "code",
   "execution_count": 32,
   "metadata": {
    "scrolled": true
   },
   "outputs": [
    {
     "name": "stdout",
     "output_type": "stream",
     "text": [
      "                     salary\n",
      "SKILLING JEFFREY K  1111258\n",
      "LAY KENNETH L       1072321\n",
      "FREVERT MARK A      1060932\n",
      "PICKERING MARK R     655037\n",
      "WHALLEY LAWRENCE G   510364\n",
      "######################################################\n",
      "                    total_payments\n",
      "LAY KENNETH L            103559793\n",
      "FREVERT MARK A            17252530\n",
      "LAVORATO JOHN J           10425757\n",
      "SKILLING JEFFREY K         8682716\n",
      "MARTIN AMANDA K            8407016\n",
      "######################################################\n",
      "                    restricted_stock\n",
      "LAY KENNETH L               14761694\n",
      "WHITE JR THOMAS E           13847074\n",
      "PAI LOU L                    8453763\n",
      "SKILLING JEFFREY K           6843672\n",
      "FREVERT MARK A               4188667\n",
      "######################################################\n",
      "                    total_stock_value\n",
      "LAY KENNETH L                49110078\n",
      "HIRKO JOSEPH                 30766064\n",
      "SKILLING JEFFREY K           26093672\n",
      "PAI LOU L                    23817930\n",
      "RICE KENNETH D               22542539\n",
      "######################################################\n"
     ]
    }
   ],
   "source": [
    "for clm in ['salary', 'total_payments', 'restricted_stock','total_stock_value']:\n",
    "    print(enron_df.sort_values(clm,ascending=False)[[clm]].head(5))\n",
    "    print(\"######################################################\")"
   ]
  },
  {
   "cell_type": "code",
   "execution_count": 33,
   "metadata": {
    "scrolled": false
   },
   "outputs": [
    {
     "name": "stdout",
     "output_type": "stream",
     "text": [
      "                   salary\n",
      "JAEDICKE ROBERT         0\n",
      "MCCARTY DANNY J         0\n",
      "LOWRY CHARLES P         0\n",
      "LEWIS RICHARD           0\n",
      "LEMAISTRE CHARLES       0\n",
      "######################################################\n",
      "                 total_payments\n",
      "MCCARTY DANNY J               0\n",
      "HUGHES JAMES A                0\n",
      "LEWIS RICHARD                 0\n",
      "LOWRY CHARLES P               0\n",
      "CHAN RONNIE                   0\n",
      "######################################################\n",
      "               restricted_stock\n",
      "YEAP SOON                     0\n",
      "FOY JOE                       0\n",
      "FUGH JOHN L                   0\n",
      "GIBBS DANA R                  0\n",
      "GRAMM WENDY L                 0\n",
      "######################################################\n",
      "                    total_stock_value\n",
      "BLAKE JR. NORMAN P                  0\n",
      "GRAY RODNEY                         0\n",
      "MEYER JEROME J                      0\n",
      "SAVAGE FRANK                        0\n",
      "UMANOFF ADAM S                      0\n",
      "######################################################\n"
     ]
    }
   ],
   "source": [
    "for clm in ['salary', 'total_payments', 'restricted_stock','total_stock_value']:\n",
    "    print(enron_df.sort_values(clm,ascending=True)[[clm]].head(5))\n",
    "    print(\"######################################################\")"
   ]
  },
  {
   "cell_type": "markdown",
   "metadata": {},
   "source": [
    "As we saw before, the outliers on the top were Skilling and Lay, and the ones on the bottom we took care of. So we're good. "
   ]
  },
  {
   "cell_type": "markdown",
   "metadata": {},
   "source": [
    "### Cleaning and outliers\n",
    "The dataset had some small problems:\n",
    "* **non-persons in the data** (Total row was added as data point, and a travel agency as well), these were removed\n",
    "* **Person with no data** was removed\n",
    "* **two people with shifted columns** where the data was manually corrected\n",
    "\n",
    "Outside these problems, all outliers are an important part of the dataset, since the biggest outliers are the biggest POIs\n",
    "* total number of data points\n",
    "* allocation across classes (POI/non-POI)\n",
    "* number of features available\n",
    "* are there features with many missing values? etc.\n",
    "\n",
    "There are 18 poi identified in the dataset  \n",
    "There are 125 non-poi identified in the dataset  \n",
    "  \n",
    "number of features available : 20, total number of datapoints: 143  \n",
    "  \n",
    "Feature : poi, known values : 18  \n",
    "Feature : salary, known values : 94  \n",
    "Feature : bonus, known values : 81  \n",
    "Feature : long_term_incentive, known values : 65  \n",
    "Feature : deferred_income, known values : 49  \n",
    "Feature : deferral_payments, known values : 37  \n",
    "Feature : loan_advances, known values : 3  \n",
    "Feature : other, known values : 90  \n",
    "Feature : expenses, known values : 96  \n",
    "Feature : director_fees, known values : 15  \n",
    "Feature : total_payments, known values : 123  \n",
    "Feature : exercised_stock_options, known values : 100  \n",
    "Feature : restricted_stock, known values : 110  \n",
    "Feature : restricted_stock_deferred, known values : 17  \n",
    "Feature : total_stock_value, known values : 125  \n",
    "Feature : from_poi_to_this_person, known values : 74  \n",
    "Feature : shared_receipt_with_poi, known values : 86  \n",
    "Feature : from_this_person_to_poi, known values : 66  \n",
    "Feature : to_messages, known values : 86  \n",
    "Feature : from_messages, known values : 86  "
   ]
  },
  {
   "cell_type": "markdown",
   "metadata": {},
   "source": [
    "### Question answers\n",
    "Now we have a clean dataset, and we can answer the questions:\n",
    "* total number of data points\n",
    "* allocation across classes (POI/non-POI)\n",
    "* number of features used\n",
    "* are there features with many missing values? etc."
   ]
  },
  {
   "cell_type": "code",
   "execution_count": 55,
   "metadata": {},
   "outputs": [
    {
     "name": "stdout",
     "output_type": "stream",
     "text": [
      "There are 18 poi identified in the dataset\n",
      "There are 125 non-poi identified in the dataset\n",
      "\n",
      "number of features available : 20, total number of datapoints: 143\n",
      "\n",
      "Feature : poi, known values : 18\n",
      "Feature : salary, known values : 94\n",
      "Feature : bonus, known values : 81\n",
      "Feature : long_term_incentive, known values : 65\n",
      "Feature : deferred_income, known values : 49\n",
      "Feature : deferral_payments, known values : 37\n",
      "Feature : loan_advances, known values : 3\n",
      "Feature : other, known values : 90\n",
      "Feature : expenses, known values : 96\n",
      "Feature : director_fees, known values : 15\n",
      "Feature : total_payments, known values : 123\n",
      "Feature : exercised_stock_options, known values : 100\n",
      "Feature : restricted_stock, known values : 110\n",
      "Feature : restricted_stock_deferred, known values : 17\n",
      "Feature : total_stock_value, known values : 125\n",
      "Feature : from_poi_to_this_person, known values : 74\n",
      "Feature : shared_receipt_with_poi, known values : 86\n",
      "Feature : from_this_person_to_poi, known values : 66\n",
      "Feature : to_messages, known values : 86\n",
      "Feature : from_messages, known values : 86\n"
     ]
    }
   ],
   "source": [
    "print(\"There are \" + str(enron_df[enron_df['poi']==True].shape[0]) + \" poi identified in the dataset\")\n",
    "print(\"There are \" + str(enron_df[~enron_df['poi']==True].shape[0]) + \" non-poi identified in the dataset\")\n",
    "print(\"\")\n",
    "print(\"number of features available : {}, total number of datapoints: {}\".format(enron_df.shape[1], enron_df.shape[0]))\n",
    "print(\"\")\n",
    "for col in enron_df.columns:\n",
    "    print('Feature : {}, known values : {}'.format(col, np.count_nonzero(enron_df[col])))    "
   ]
  },
  {
   "cell_type": "markdown",
   "metadata": {},
   "source": [
    "## Features\n",
    "I'll first try a classifier, to see if I an figure out the relative importance for these features.\n",
    "\n",
    "After this, I'll see if I can come up with extracted or composite features and then I'll move on to the algorithm section where I will explore differnt classifiers and their parameters. \n",
    "\n",
    "So we have a list of features, but they are all absolute, maybe relative values are better (a higher number of emails sent to POI per total emails sent might say more about the person than the absolute number of emails sent to a POI)\n",
    "\n",
    "### New Features and test to see if they are usefull\n",
    "I'll make some new, relative features. For all the features that are not accumulative, I'll make a relative value feature relative to the respective totals, denoted with _r \n",
    "\n",
    "I'll also add a salary / bonus and a bonus / salary feature, to see if that does anything \n",
    "\n",
    "\n"
   ]
  },
  {
   "cell_type": "code",
   "execution_count": 37,
   "metadata": {},
   "outputs": [],
   "source": [
    "enron_df_tmp = enron_df.copy()\n",
    "\n",
    "for clm in payment_columns[:-1]:\n",
    "    enron_df_tmp[clm + '_r'] = enron_df_tmp[clm]/enron_df_tmp['total_payments']\n",
    "\n",
    "for clm in stock_columns[:-1]:\n",
    "    enron_df_tmp[clm + '_r'] = enron_df_tmp[clm]/enron_df_tmp['total_stock_value']\n",
    "\n",
    "enron_df_tmp['from_poi_to_this_person_r'] = enron_df_tmp['from_poi_to_this_person']/enron_df_tmp['to_messages']\n",
    "enron_df_tmp['shared_receipt_with_poi_r'] = enron_df_tmp['shared_receipt_with_poi']/enron_df_tmp['to_messages']\n",
    "enron_df_tmp['from_this_person_to_poi_r'] = enron_df_tmp['from_this_person_to_poi']/enron_df_tmp['from_messages']\n",
    "\n",
    "enron_df_tmp['salary_bonus'] = enron_df_tmp['salary']/enron_df_tmp['bonus']\n",
    "enron_df_tmp['bonus_salary'] = enron_df_tmp['bonus']/enron_df_tmp['salary']\n",
    "#remove division by 0 results and NaN \n",
    "enron_df_tmp = enron_df_tmp.replace('NaN', np.nan).replace(np.inf, np.nan).replace(-np.inf, np.nan).fillna(0)"
   ]
  },
  {
   "cell_type": "markdown",
   "metadata": {},
   "source": [
    "I'll make a large starter training set for the feature check:"
   ]
  },
  {
   "cell_type": "code",
   "execution_count": 38,
   "metadata": {},
   "outputs": [],
   "source": [
    "labels = enron_df_tmp['poi'].values.astype(int) # labels = POI or not as 1/0, 1 being True\n",
    "features = enron_df_tmp.loc[:, enron_df_tmp.columns != 'poi'].values # features = everything else"
   ]
  },
  {
   "cell_type": "markdown",
   "metadata": {},
   "source": [
    "I'm using SelectPercentile as a metric to evaluate if the relative features score better than the original metric:"
   ]
  },
  {
   "cell_type": "code",
   "execution_count": 39,
   "metadata": {},
   "outputs": [
    {
     "name": "stdout",
     "output_type": "stream",
     "text": [
      "                                     0\n",
      "salary_bonus                  0.000369\n",
      "exercised_stock_options_r     0.085168\n",
      "expenses_r                    0.130850\n",
      "deferred_income_r             0.163076\n",
      "from_messages                 0.169701\n",
      "director_fees_r               0.223324\n",
      "deferral_payments             0.228860\n",
      "restricted_stock_deferred_r   0.658054\n",
      "restricted_stock_deferred     0.768146\n",
      "restricted_stock_r            1.070207\n",
      "other_r                       1.070994\n",
      "to_messages                   1.646341\n",
      "deferral_payments_r           1.809069\n",
      "director_fees                 2.131484\n",
      "from_this_person_to_poi       2.382612\n",
      "salary_r                      2.687418\n",
      "from_poi_to_this_person_r     3.128092\n",
      "other                         4.202436\n",
      "from_poi_to_this_person       5.243450\n",
      "loan_advances_r               5.346341\n",
      "expenses                      5.418900\n",
      "loan_advances                 7.184056\n",
      "shared_receipt_with_poi       8.589421\n",
      "restricted_stock              8.825442\n",
      "shared_receipt_with_poi_r     9.101269\n",
      "total_payments                9.283874\n",
      "long_term_incentive           9.922186\n",
      "bonus_salary                 10.783585\n",
      "deferred_income              11.424891\n",
      "long_term_incentive_r        13.850868\n",
      "from_this_person_to_poi_r    16.409713\n",
      "salary                       18.289684\n",
      "bonus_r                      20.715596\n",
      "bonus                        20.792252\n",
      "exercised_stock_options      22.348975\n",
      "total_stock_value            22.510549\n",
      "number of features: 36\n"
     ]
    }
   ],
   "source": [
    "selector = SelectPercentile(percentile=100)\n",
    "cls = selector.fit(features, labels)\n",
    "d_scores = dict(zip(enron_df_tmp.loc[:, enron_df_tmp.columns != 'poi'].columns, cls.scores_))\n",
    "df_scores = pd.DataFrame.from_dict(d_scores, orient='index').sort_index()\n",
    "print(df_scores.sort_values(by=0))\n",
    "print('number of features: ' + str(len(df_scores)))"
   ]
  },
  {
   "cell_type": "markdown",
   "metadata": {},
   "source": [
    "Here we can see the following relative features have a higher score for SelectPercentile:\n",
    "* deferral_payments_r\n",
    "* long_term_incentive_r\n",
    "* from_this_person_to_poi_r\n",
    "* shared_receipt_with_poi_r  \n",
    "\n",
    "So I will keep these and remove the original ones. I'll also remove the salary/bonus and bonus/salary ones, since they don't seem to be an improvement."
   ]
  },
  {
   "cell_type": "code",
   "execution_count": 43,
   "metadata": {},
   "outputs": [],
   "source": [
    "enron_df_tmp = enron_df.copy()\n",
    "\n",
    "enron_df_tmp['deferral_payments_r'] = enron_df_tmp['deferral_payments']/enron_df_tmp['total_payments']\n",
    "enron_df_tmp['long_term_incentive_r'] = enron_df_tmp['long_term_incentive']/enron_df_tmp['total_payments']\n",
    "enron_df_tmp['shared_receipt_with_poi_r'] = enron_df_tmp['shared_receipt_with_poi']/enron_df_tmp['to_messages']\n",
    "enron_df_tmp['from_this_person_to_poi_r'] = enron_df_tmp['from_this_person_to_poi']/enron_df_tmp['from_messages']\n",
    "#remove division by 0 results and NaN \n",
    "enron_df_tmp = enron_df_tmp.replace('NaN', np.nan).replace(np.inf, np.nan).replace(-np.inf, np.nan).fillna(0)\n",
    "\n",
    "# and fix it in the dictionary\n",
    "for name, values in enron_data.items():\n",
    "    try:\n",
    "        enron_data[name]['deferral_payments_r'] = float(enron_data[name][\n",
    "            'deferral_payments']) / float(enron_data[name]['total_payments'])\n",
    "    except ZeroDivisionError:\n",
    "        enron_data[name]['deferral_payments_r'] = 0\n",
    "\n",
    "    try:\n",
    "        enron_data[name]['long_term_incentive_r'] = float(enron_data[name][\n",
    "            'long_term_incentive']) / float(enron_data[name]['total_payments'])\n",
    "    except ZeroDivisionError:\n",
    "        enron_data[name]['long_term_incentive_r'] = 0\n",
    "\n",
    "    try:\n",
    "        enron_data[name]['shared_receipt_with_poi_r'] = float(enron_data[name][\n",
    "            'shared_receipt_with_poi']) / float(enron_data[name]['to_messages'])\n",
    "    except ZeroDivisionError:\n",
    "        enron_data[name]['shared_receipt_with_poi_r'] = 0\n",
    "\n",
    "    try:\n",
    "        enron_data[name]['from_this_person_to_poi_r'] = float(enron_data[name][\n",
    "            'from_this_person_to_poi']) / float(enron_data[name]['from_messages'])\n",
    "    except ZeroDivisionError:\n",
    "        enron_data[name]['from_this_person_to_poi_r'] = 0\n"
   ]
  },
  {
   "cell_type": "markdown",
   "metadata": {},
   "source": [
    "#### Rinse and repeat:"
   ]
  },
  {
   "cell_type": "code",
   "execution_count": 45,
   "metadata": {},
   "outputs": [],
   "source": [
    "labels = enron_df_tmp['poi'].values.astype(int) # labels = POI or not as 1/0, 1 being True\n",
    "features = enron_df_tmp.loc[:, enron_df_tmp.columns != 'poi'].values # features = everything else"
   ]
  },
  {
   "cell_type": "code",
   "execution_count": 46,
   "metadata": {},
   "outputs": [
    {
     "name": "stdout",
     "output_type": "stream",
     "text": [
      "                                   0\n",
      "from_messages               0.169701\n",
      "deferral_payments           0.228860\n",
      "restricted_stock_deferred   0.768146\n",
      "to_messages                 1.646341\n",
      "deferral_payments_r         1.809069\n",
      "director_fees               2.131484\n",
      "from_this_person_to_poi     2.382612\n",
      "other                       4.202436\n",
      "from_poi_to_this_person     5.243450\n",
      "expenses                    5.418900\n",
      "loan_advances               7.184056\n",
      "shared_receipt_with_poi     8.589421\n",
      "restricted_stock            8.825442\n",
      "shared_receipt_with_poi_r   9.101269\n",
      "total_payments              9.283874\n",
      "long_term_incentive         9.922186\n",
      "deferred_income            11.424891\n",
      "long_term_incentive_r      13.850868\n",
      "from_this_person_to_poi_r  16.409713\n",
      "salary                     18.289684\n",
      "bonus                      20.792252\n",
      "exercised_stock_options    22.348975\n",
      "total_stock_value          22.510549\n",
      "number of features: 23\n"
     ]
    }
   ],
   "source": [
    "selector = SelectPercentile(percentile=100)\n",
    "cls = selector.fit(features, labels)\n",
    "d_scores = dict(zip(enron_df_tmp.loc[:, enron_df_tmp.columns != 'poi'].columns, cls.scores_))\n",
    "df_scores = pd.DataFrame.from_dict(d_scores, orient='index').sort_index()\n",
    "print(df_scores.sort_values(by=0))\n",
    "print('number of features: ' + str(len(df_scores)))"
   ]
  },
  {
   "cell_type": "markdown",
   "metadata": {},
   "source": [
    "That looks quite ok, I'll reduce further later on by using kbest in a pipeline, I just want to check the algorythm performances first."
   ]
  },
  {
   "cell_type": "markdown",
   "metadata": {},
   "source": [
    "## Feature Selection/Engineering\n",
    "Looking at the original features in the dataset, email-addresses were removed, since they do not add information regarding poi or not.\n",
    "\n",
    "To create more meaningfull features, I've introduced features relative to the total (salary / total payment for instance). I've used SelectPercentile from sklearn as a metric to evaluate if the relative features score better than the original metric.\n",
    "\n",
    "I've then removed the original features and kept the relative ones:\n",
    "\n",
    "<code> features_list = ['poi',\n",
    "                 'from_messages',\n",
    "                 'restricted_stock_deferred',\n",
    "                 'to_messages',\n",
    "                 'director_fees',\n",
    "                 'other',\n",
    "                 'from_poi_to_this_person',\n",
    "                 'expenses',\n",
    "                 'loan_advances',\n",
    "                 'restricted_stock',\n",
    "                 'total_payments',\n",
    "                 'deferred_income',\n",
    "                 'salary',\n",
    "                 'bonus',\n",
    "                 'exercised_stock_options',\n",
    "                 'total_stock_value',\n",
    "                 'deferral_payments_r',\n",
    "                 'shared_receipt_with_poi_r',\n",
    "                 'long_term_incentive_r',\n",
    "                 'from_this_person_to_poi_r']</code>\n",
    "    \n",
    "Where the features denoted with _r suffix are features relative to the total. (ie. long_term_incentive_r = long_term_incentive / total_payments)"
   ]
  },
  {
   "cell_type": "code",
   "execution_count": 32,
   "metadata": {},
   "outputs": [],
   "source": [
    "enron_df = enron_df_tmp.copy()"
   ]
  },
  {
   "cell_type": "markdown",
   "metadata": {},
   "source": [
    "## Algorithms\n",
    "So I'll try some different algorithms, with different properties to figure out which one works best for our dataset.\n",
    "I'll try different:\n",
    "* **scaling:** using different scaling methods to get the optimum scalling method with regards to the classifier used.\n",
    "* **classifier:** using different classifiers to check which one works best with the data provided\n",
    "* **parameters:** GridSearchCV is used to find optimum parameters for \n",
    "\n"
   ]
  },
  {
   "cell_type": "markdown",
   "metadata": {},
   "source": [
    "### Scaling\n",
    "We have high variability in our data, since they are different types, although some of the algorithms can handle these, I do not want to under- or overrepresent different features, so I'll use scaling:\n",
    "\n",
    "Since different algorithms produce different results with different scalers, I put multiple scaling possibilities in a tuple list so I can loop through and find which works best. Used scalers:\n",
    "* standard scaling\n",
    "* min-max scaling\n",
    "* max-abs scaling\n",
    "* power transformation (Yeo-Johnson)\n",
    "* quantile transformation (gaussian pdf)\n",
    "* quantile transformation (uniform pdf)\n",
    "\n"
   ]
  },
  {
   "cell_type": "code",
   "execution_count": 48,
   "metadata": {},
   "outputs": [],
   "source": [
    "distributions = [\n",
    "    ('Data after standard scaling',\n",
    "        StandardScaler().fit_transform(features)),\n",
    "    ('Data after min-max scaling',\n",
    "        MinMaxScaler().fit_transform(features)),\n",
    "    ('Data after max-abs scaling',\n",
    "        MaxAbsScaler().fit_transform(features)),\n",
    "    ('Data after power transformation (Yeo-Johnson)',\n",
    "     PowerTransformer(method='yeo-johnson').fit_transform(features)),\n",
    "    ('Data after quantile transformation (gaussian pdf)',\n",
    "        QuantileTransformer(output_distribution='normal')\n",
    "        .fit_transform(features)),\n",
    "    ('Data after quantile transformation (uniform pdf)',\n",
    "        QuantileTransformer(output_distribution='uniform')\n",
    "        .fit_transform(features))\n",
    "]"
   ]
  },
  {
   "cell_type": "markdown",
   "metadata": {},
   "source": [
    "### Which one is best?\n",
    "To determine which algoritm performs best, I created a for loop that checks the allgoritms with gridSearhCV for al the scaling methods. For the parameters to be scaled, I've tried to keep some continuity between the algorithms.\n",
    "\n",
    "I've selected the following classifiers:\n",
    "* SVC\n",
    "* DecisionTreeClassifier\n",
    "* RandomForestClassifier\n",
    "* AdaBoostClassifier\n",
    "* GradientBoostingClassifier\n",
    "        \n"
   ]
  },
  {
   "cell_type": "code",
   "execution_count": 49,
   "metadata": {},
   "outputs": [],
   "source": [
    "# list of classifiers\n",
    "\n",
    "classifiers = [\n",
    "    ('SVC', SVC()),\n",
    "    ('DTC', DecisionTreeClassifier()),\n",
    "    ('RFC', RandomForestClassifier()),\n",
    "    ('ADA', AdaBoostClassifier()),\n",
    "    ('GBC', GradientBoostingClassifier())\n",
    "]\n",
    "\n",
    "# param grid for different classifiers\n",
    "param_grid_list = [('SVC', {'C': [1,10,50,100],\n",
    "                            'kernel': ['linear', 'poly','rbf']}),\n",
    "                   ('DTC',{'criterion': ['gini','entropy'], \n",
    "                           'splitter': ['best','random'], \n",
    "                           'min_samples_split' : [2,5,8, 10],\n",
    "                           'max_depth': [10,25,50,100,200]}),\n",
    "                   ('RFC', {'n_estimators': [10,50,100], \n",
    "                            'criterion': ['gini','entropy'],\n",
    "                            'max_depth': [3,5,8],\n",
    "                            'max_features' : ['log2','sqrt']}),\n",
    "                   ('ADA', {'n_estimators': [10,50,100], \n",
    "                            'learning_rate': [0.01, 0.025, 0.05, 0.075, 0.1, 0.15, 0.2],\n",
    "                            'algorithm' : ['SAMME', 'SAMME.R']}),\n",
    "                   ('GBC', {'loss': ['deviance'],\n",
    "                            'learning_rate': [0.01, 0.025, 0.05, 0.075, 0.1, 0.15, 0.2],\n",
    "                            'max_depth': [3,5,8],\n",
    "                            'max_features' : ['log2','sqrt'],\n",
    "                            'n_estimators': [10,50,100]})\n",
    "                  ]       "
   ]
  },
  {
   "cell_type": "code",
   "execution_count": null,
   "metadata": {},
   "outputs": [],
   "source": []
  },
  {
   "cell_type": "code",
   "execution_count": 50,
   "metadata": {
    "scrolled": true
   },
   "outputs": [
    {
     "name": "stdout",
     "output_type": "stream",
     "text": [
      "###########################################################\n",
      "###################### feature ############################\n",
      "Data after standard scaling\n",
      "################### classifier ############################\n",
      "('SVC', SVC(C=1.0, cache_size=200, class_weight=None, coef0=0.0,\n",
      "  decision_function_shape='ovr', degree=3, gamma='auto_deprecated',\n",
      "  kernel='rbf', max_iter=-1, probability=False, random_state=None,\n",
      "  shrinking=True, tol=0.001, verbose=False))\n",
      "###########################################################\n",
      "('SVC', 'SVC', {'kernel': ['linear', 'poly', 'rbf'], 'C': [1, 10, 50, 100]})\n"
     ]
    },
    {
     "name": "stderr",
     "output_type": "stream",
     "text": [
      "c:\\programdata\\anaconda3\\envs\\ml_proj4\\lib\\site-packages\\sklearn\\model_selection\\_search.py:842: DeprecationWarning: The default of the `iid` parameter will change from True to False in version 0.22 and will be removed in 0.24. This will change numeric results when test-set sizes are unequal.\n",
      "  DeprecationWarning)\n"
     ]
    },
    {
     "name": "stdout",
     "output_type": "stream",
     "text": [
      "###########################################################\n",
      "parameters:{'kernel': 'poly', 'C': 1}\n",
      "###########################################################\n",
      "accuracy training set: 0.883\n",
      "accuracy test set: 0.891\n",
      "precision_score : 1\n",
      "recall_score : 0.2\n",
      "f1-score : 0.333\n",
      "################### classifier ############################\n",
      "('DTC', DecisionTreeClassifier(class_weight=None, criterion='gini', max_depth=None,\n",
      "            max_features=None, max_leaf_nodes=None,\n",
      "            min_impurity_decrease=0.0, min_impurity_split=None,\n",
      "            min_samples_leaf=1, min_samples_split=2,\n",
      "            min_weight_fraction_leaf=0.0, presort=False, random_state=None,\n",
      "            splitter='best'))\n",
      "###########################################################\n",
      "('DTC', 'DTC', {'min_samples_split': [2, 5, 8, 10], 'splitter': ['best', 'random'], 'criterion': ['gini', 'entropy'], 'max_depth': [10, 25, 50, 100, 200]})\n"
     ]
    },
    {
     "name": "stderr",
     "output_type": "stream",
     "text": [
      "c:\\programdata\\anaconda3\\envs\\ml_proj4\\lib\\site-packages\\sklearn\\model_selection\\_search.py:842: DeprecationWarning: The default of the `iid` parameter will change from True to False in version 0.22 and will be removed in 0.24. This will change numeric results when test-set sizes are unequal.\n",
      "  DeprecationWarning)\n"
     ]
    },
    {
     "name": "stdout",
     "output_type": "stream",
     "text": [
      "###########################################################\n",
      "parameters:{'min_samples_split': 10, 'splitter': 'random', 'criterion': 'gini', 'max_depth': 200}\n",
      "###########################################################\n",
      "accuracy training set: 0.937\n",
      "accuracy test set: 0.816\n",
      "precision_score : 0.222\n",
      "recall_score : 0.4\n",
      "f1-score : 0.286\n",
      "################### classifier ############################\n",
      "('RFC', RandomForestClassifier(bootstrap=True, class_weight=None, criterion='gini',\n",
      "            max_depth=None, max_features='auto', max_leaf_nodes=None,\n",
      "            min_impurity_decrease=0.0, min_impurity_split=None,\n",
      "            min_samples_leaf=1, min_samples_split=2,\n",
      "            min_weight_fraction_leaf=0.0, n_estimators='warn', n_jobs=None,\n",
      "            oob_score=False, random_state=None, verbose=0,\n",
      "            warm_start=False))\n",
      "###########################################################\n",
      "('RFC', 'RFC', {'n_estimators': [10, 50, 100], 'max_features': ['log2', 'sqrt'], 'criterion': ['gini', 'entropy'], 'max_depth': [3, 5, 8]})\n"
     ]
    },
    {
     "name": "stderr",
     "output_type": "stream",
     "text": [
      "c:\\programdata\\anaconda3\\envs\\ml_proj4\\lib\\site-packages\\sklearn\\model_selection\\_search.py:842: DeprecationWarning: The default of the `iid` parameter will change from True to False in version 0.22 and will be removed in 0.24. This will change numeric results when test-set sizes are unequal.\n",
      "  DeprecationWarning)\n"
     ]
    },
    {
     "name": "stdout",
     "output_type": "stream",
     "text": [
      "###########################################################\n",
      "parameters:{'max_features': 'sqrt', 'n_estimators': 10, 'criterion': 'gini', 'max_depth': 3}\n",
      "###########################################################\n",
      "accuracy training set: 0.928\n",
      "accuracy test set: 0.875\n",
      "precision_score : 0.5\n",
      "recall_score : 0.2\n",
      "f1-score : 0.286\n",
      "################### classifier ############################\n",
      "('ADA', AdaBoostClassifier(algorithm='SAMME.R', base_estimator=None,\n",
      "          learning_rate=1.0, n_estimators=50, random_state=None))\n",
      "###########################################################\n",
      "('ADA', 'ADA', {'n_estimators': [10, 50, 100], 'learning_rate': [0.01, 0.025, 0.05, 0.075, 0.1, 0.15, 0.2], 'algorithm': ['SAMME', 'SAMME.R']})\n"
     ]
    },
    {
     "name": "stderr",
     "output_type": "stream",
     "text": [
      "c:\\programdata\\anaconda3\\envs\\ml_proj4\\lib\\site-packages\\sklearn\\model_selection\\_search.py:842: DeprecationWarning: The default of the `iid` parameter will change from True to False in version 0.22 and will be removed in 0.24. This will change numeric results when test-set sizes are unequal.\n",
      "  DeprecationWarning)\n"
     ]
    },
    {
     "name": "stdout",
     "output_type": "stream",
     "text": [
      "###########################################################\n",
      "parameters:{'n_estimators': 10, 'learning_rate': 0.2, 'algorithm': 'SAMME'}\n",
      "###########################################################\n",
      "accuracy training set: 0.824\n",
      "accuracy test set: 0.847\n",
      "precision_score : 0\n",
      "recall_score : 0\n",
      "f1-score : 0\n",
      "################### classifier ############################\n",
      "('GBC', GradientBoostingClassifier(criterion='friedman_mse', init=None,\n",
      "              learning_rate=0.1, loss='deviance', max_depth=3,\n",
      "              max_features=None, max_leaf_nodes=None,\n",
      "              min_impurity_decrease=0.0, min_impurity_split=None,\n",
      "              min_samples_leaf=1, min_samples_split=2,\n",
      "              min_weight_fraction_leaf=0.0, n_estimators=100,\n",
      "              n_iter_no_change=None, presort='auto', random_state=None,\n",
      "              subsample=1.0, tol=0.0001, validation_fraction=0.1,\n",
      "              verbose=0, warm_start=False))\n",
      "###########################################################\n",
      "('GBC', 'GBC', {'max_features': ['log2', 'sqrt'], 'loss': ['deviance'], 'learning_rate': [0.01, 0.025, 0.05, 0.075, 0.1, 0.15, 0.2], 'n_estimators': [10, 50, 100], 'max_depth': [3, 5, 8]})\n"
     ]
    },
    {
     "name": "stderr",
     "output_type": "stream",
     "text": [
      "c:\\programdata\\anaconda3\\envs\\ml_proj4\\lib\\site-packages\\sklearn\\model_selection\\_search.py:842: DeprecationWarning: The default of the `iid` parameter will change from True to False in version 0.22 and will be removed in 0.24. This will change numeric results when test-set sizes are unequal.\n",
      "  DeprecationWarning)\n"
     ]
    },
    {
     "name": "stdout",
     "output_type": "stream",
     "text": [
      "###########################################################\n",
      "parameters:{'max_features': 'sqrt', 'loss': 'deviance', 'learning_rate': 0.075, 'n_estimators': 50, 'max_depth': 3}\n",
      "###########################################################\n",
      "accuracy training set: 1\n",
      "accuracy test set: 0.875\n",
      "precision_score : 0.5\n",
      "recall_score : 0.2\n",
      "f1-score : 0.286\n",
      "###########################################################\n",
      "###################### feature ############################\n",
      "Data after min-max scaling\n",
      "################### classifier ############################\n",
      "('SVC', SVC(C=1.0, cache_size=200, class_weight=None, coef0=0.0,\n",
      "  decision_function_shape='ovr', degree=3, gamma='auto_deprecated',\n",
      "  kernel='rbf', max_iter=-1, probability=False, random_state=None,\n",
      "  shrinking=True, tol=0.001, verbose=False))\n",
      "###########################################################\n",
      "('SVC', 'SVC', {'kernel': ['linear', 'poly', 'rbf'], 'C': [1, 10, 50, 100]})\n",
      "###########################################################\n",
      "parameters:{'kernel': 'linear', 'C': 10}\n",
      "###########################################################\n",
      "accuracy training set: 0.883\n",
      "accuracy test set: 0.875\n",
      "precision_score : 0.5\n",
      "recall_score : 0.2\n"
     ]
    },
    {
     "name": "stderr",
     "output_type": "stream",
     "text": [
      "c:\\programdata\\anaconda3\\envs\\ml_proj4\\lib\\site-packages\\sklearn\\model_selection\\_search.py:842: DeprecationWarning: The default of the `iid` parameter will change from True to False in version 0.22 and will be removed in 0.24. This will change numeric results when test-set sizes are unequal.\n",
      "  DeprecationWarning)\n"
     ]
    },
    {
     "name": "stdout",
     "output_type": "stream",
     "text": [
      "f1-score : 0.286\n",
      "################### classifier ############################\n",
      "('DTC', DecisionTreeClassifier(class_weight=None, criterion='gini', max_depth=None,\n",
      "            max_features=None, max_leaf_nodes=None,\n",
      "            min_impurity_decrease=0.0, min_impurity_split=None,\n",
      "            min_samples_leaf=1, min_samples_split=2,\n",
      "            min_weight_fraction_leaf=0.0, presort=False, random_state=None,\n",
      "            splitter='best'))\n",
      "###########################################################\n",
      "('DTC', 'DTC', {'min_samples_split': [2, 5, 8, 10], 'splitter': ['best', 'random'], 'criterion': ['gini', 'entropy'], 'max_depth': [10, 25, 50, 100, 200]})\n"
     ]
    },
    {
     "name": "stderr",
     "output_type": "stream",
     "text": [
      "c:\\programdata\\anaconda3\\envs\\ml_proj4\\lib\\site-packages\\sklearn\\model_selection\\_search.py:842: DeprecationWarning: The default of the `iid` parameter will change from True to False in version 0.22 and will be removed in 0.24. This will change numeric results when test-set sizes are unequal.\n",
      "  DeprecationWarning)\n"
     ]
    },
    {
     "name": "stdout",
     "output_type": "stream",
     "text": [
      "###########################################################\n",
      "parameters:{'min_samples_split': 8, 'splitter': 'best', 'criterion': 'gini', 'max_depth': 100}\n",
      "###########################################################\n",
      "accuracy training set: 0.99\n",
      "accuracy test set: 0.853\n",
      "precision_score : 0.333\n",
      "recall_score : 0.6\n",
      "f1-score : 0.429\n",
      "################### classifier ############################\n",
      "('RFC', RandomForestClassifier(bootstrap=True, class_weight=None, criterion='gini',\n",
      "            max_depth=None, max_features='auto', max_leaf_nodes=None,\n",
      "            min_impurity_decrease=0.0, min_impurity_split=None,\n",
      "            min_samples_leaf=1, min_samples_split=2,\n",
      "            min_weight_fraction_leaf=0.0, n_estimators='warn', n_jobs=None,\n",
      "            oob_score=False, random_state=None, verbose=0,\n",
      "            warm_start=False))\n",
      "###########################################################\n",
      "('RFC', 'RFC', {'n_estimators': [10, 50, 100], 'max_features': ['log2', 'sqrt'], 'criterion': ['gini', 'entropy'], 'max_depth': [3, 5, 8]})\n"
     ]
    },
    {
     "name": "stderr",
     "output_type": "stream",
     "text": [
      "c:\\programdata\\anaconda3\\envs\\ml_proj4\\lib\\site-packages\\sklearn\\model_selection\\_search.py:842: DeprecationWarning: The default of the `iid` parameter will change from True to False in version 0.22 and will be removed in 0.24. This will change numeric results when test-set sizes are unequal.\n",
      "  DeprecationWarning)\n"
     ]
    },
    {
     "name": "stdout",
     "output_type": "stream",
     "text": [
      "###########################################################\n",
      "parameters:{'max_features': 'log2', 'n_estimators': 10, 'criterion': 'gini', 'max_depth': 3}\n",
      "###########################################################\n",
      "accuracy training set: 0.942\n",
      "accuracy test set: 0.891\n",
      "precision_score : 1\n",
      "recall_score : 0.2\n",
      "f1-score : 0.333\n",
      "################### classifier ############################\n",
      "('ADA', AdaBoostClassifier(algorithm='SAMME.R', base_estimator=None,\n",
      "          learning_rate=1.0, n_estimators=50, random_state=None))\n",
      "###########################################################\n",
      "('ADA', 'ADA', {'n_estimators': [10, 50, 100], 'learning_rate': [0.01, 0.025, 0.05, 0.075, 0.1, 0.15, 0.2], 'algorithm': ['SAMME', 'SAMME.R']})\n"
     ]
    },
    {
     "name": "stderr",
     "output_type": "stream",
     "text": [
      "c:\\programdata\\anaconda3\\envs\\ml_proj4\\lib\\site-packages\\sklearn\\model_selection\\_search.py:842: DeprecationWarning: The default of the `iid` parameter will change from True to False in version 0.22 and will be removed in 0.24. This will change numeric results when test-set sizes are unequal.\n",
      "  DeprecationWarning)\n"
     ]
    },
    {
     "name": "stdout",
     "output_type": "stream",
     "text": [
      "###########################################################\n",
      "parameters:{'n_estimators': 10, 'learning_rate': 0.2, 'algorithm': 'SAMME'}\n",
      "###########################################################\n",
      "accuracy training set: 0.824\n",
      "accuracy test set: 0.847\n",
      "precision_score : 0\n",
      "recall_score : 0\n",
      "f1-score : 0\n",
      "################### classifier ############################\n",
      "('GBC', GradientBoostingClassifier(criterion='friedman_mse', init=None,\n",
      "              learning_rate=0.1, loss='deviance', max_depth=3,\n",
      "              max_features=None, max_leaf_nodes=None,\n",
      "              min_impurity_decrease=0.0, min_impurity_split=None,\n",
      "              min_samples_leaf=1, min_samples_split=2,\n",
      "              min_weight_fraction_leaf=0.0, n_estimators=100,\n",
      "              n_iter_no_change=None, presort='auto', random_state=None,\n",
      "              subsample=1.0, tol=0.0001, validation_fraction=0.1,\n",
      "              verbose=0, warm_start=False))\n",
      "###########################################################\n",
      "('GBC', 'GBC', {'max_features': ['log2', 'sqrt'], 'loss': ['deviance'], 'learning_rate': [0.01, 0.025, 0.05, 0.075, 0.1, 0.15, 0.2], 'n_estimators': [10, 50, 100], 'max_depth': [3, 5, 8]})\n"
     ]
    },
    {
     "name": "stderr",
     "output_type": "stream",
     "text": [
      "c:\\programdata\\anaconda3\\envs\\ml_proj4\\lib\\site-packages\\sklearn\\model_selection\\_search.py:842: DeprecationWarning: The default of the `iid` parameter will change from True to False in version 0.22 and will be removed in 0.24. This will change numeric results when test-set sizes are unequal.\n",
      "  DeprecationWarning)\n"
     ]
    },
    {
     "name": "stdout",
     "output_type": "stream",
     "text": [
      "###########################################################\n",
      "parameters:{'max_features': 'sqrt', 'loss': 'deviance', 'learning_rate': 0.15, 'n_estimators': 50, 'max_depth': 8}\n",
      "###########################################################\n",
      "accuracy training set: 1\n",
      "accuracy test set: 0.907\n",
      "precision_score : 0.667\n",
      "recall_score : 0.4\n",
      "f1-score : 0.5\n",
      "###########################################################\n",
      "###################### feature ############################\n",
      "Data after max-abs scaling\n",
      "################### classifier ############################\n",
      "('SVC', SVC(C=1.0, cache_size=200, class_weight=None, coef0=0.0,\n",
      "  decision_function_shape='ovr', degree=3, gamma='auto_deprecated',\n",
      "  kernel='rbf', max_iter=-1, probability=False, random_state=None,\n",
      "  shrinking=True, tol=0.001, verbose=False))\n",
      "###########################################################\n",
      "('SVC', 'SVC', {'kernel': ['linear', 'poly', 'rbf'], 'C': [1, 10, 50, 100]})\n"
     ]
    },
    {
     "name": "stderr",
     "output_type": "stream",
     "text": [
      "c:\\programdata\\anaconda3\\envs\\ml_proj4\\lib\\site-packages\\sklearn\\model_selection\\_search.py:842: DeprecationWarning: The default of the `iid` parameter will change from True to False in version 0.22 and will be removed in 0.24. This will change numeric results when test-set sizes are unequal.\n",
      "  DeprecationWarning)\n"
     ]
    },
    {
     "name": "stdout",
     "output_type": "stream",
     "text": [
      "###########################################################\n",
      "parameters:{'kernel': 'linear', 'C': 10}\n",
      "###########################################################\n",
      "accuracy training set: 0.883\n",
      "accuracy test set: 0.875\n",
      "precision_score : 0.5\n",
      "recall_score : 0.2\n",
      "f1-score : 0.286\n",
      "################### classifier ############################\n",
      "('DTC', DecisionTreeClassifier(class_weight=None, criterion='gini', max_depth=None,\n",
      "            max_features=None, max_leaf_nodes=None,\n",
      "            min_impurity_decrease=0.0, min_impurity_split=None,\n",
      "            min_samples_leaf=1, min_samples_split=2,\n",
      "            min_weight_fraction_leaf=0.0, presort=False, random_state=None,\n",
      "            splitter='best'))\n",
      "###########################################################\n",
      "('DTC', 'DTC', {'min_samples_split': [2, 5, 8, 10], 'splitter': ['best', 'random'], 'criterion': ['gini', 'entropy'], 'max_depth': [10, 25, 50, 100, 200]})\n"
     ]
    },
    {
     "name": "stderr",
     "output_type": "stream",
     "text": [
      "c:\\programdata\\anaconda3\\envs\\ml_proj4\\lib\\site-packages\\sklearn\\model_selection\\_search.py:842: DeprecationWarning: The default of the `iid` parameter will change from True to False in version 0.22 and will be removed in 0.24. This will change numeric results when test-set sizes are unequal.\n",
      "  DeprecationWarning)\n"
     ]
    },
    {
     "name": "stdout",
     "output_type": "stream",
     "text": [
      "###########################################################\n",
      "parameters:{'min_samples_split': 2, 'splitter': 'best', 'criterion': 'gini', 'max_depth': 10}\n",
      "###########################################################\n",
      "accuracy training set: 1\n",
      "accuracy test set: 0.853\n",
      "precision_score : 0.333\n",
      "recall_score : 0.6\n",
      "f1-score : 0.429\n",
      "################### classifier ############################\n",
      "('RFC', RandomForestClassifier(bootstrap=True, class_weight=None, criterion='gini',\n",
      "            max_depth=None, max_features='auto', max_leaf_nodes=None,\n",
      "            min_impurity_decrease=0.0, min_impurity_split=None,\n",
      "            min_samples_leaf=1, min_samples_split=2,\n",
      "            min_weight_fraction_leaf=0.0, n_estimators='warn', n_jobs=None,\n",
      "            oob_score=False, random_state=None, verbose=0,\n",
      "            warm_start=False))\n",
      "###########################################################\n",
      "('RFC', 'RFC', {'n_estimators': [10, 50, 100], 'max_features': ['log2', 'sqrt'], 'criterion': ['gini', 'entropy'], 'max_depth': [3, 5, 8]})\n"
     ]
    },
    {
     "name": "stderr",
     "output_type": "stream",
     "text": [
      "c:\\programdata\\anaconda3\\envs\\ml_proj4\\lib\\site-packages\\sklearn\\model_selection\\_search.py:842: DeprecationWarning: The default of the `iid` parameter will change from True to False in version 0.22 and will be removed in 0.24. This will change numeric results when test-set sizes are unequal.\n",
      "  DeprecationWarning)\n"
     ]
    },
    {
     "name": "stdout",
     "output_type": "stream",
     "text": [
      "###########################################################\n",
      "parameters:{'max_features': 'sqrt', 'n_estimators': 10, 'criterion': 'gini', 'max_depth': 3}\n",
      "###########################################################\n",
      "accuracy training set: 0.932\n",
      "accuracy test set: 0.861\n",
      "precision_score : 0.333\n",
      "recall_score : 0.2\n",
      "f1-score : 0.25\n",
      "################### classifier ############################\n",
      "('ADA', AdaBoostClassifier(algorithm='SAMME.R', base_estimator=None,\n",
      "          learning_rate=1.0, n_estimators=50, random_state=None))\n",
      "###########################################################\n",
      "('ADA', 'ADA', {'n_estimators': [10, 50, 100], 'learning_rate': [0.01, 0.025, 0.05, 0.075, 0.1, 0.15, 0.2], 'algorithm': ['SAMME', 'SAMME.R']})\n"
     ]
    },
    {
     "name": "stderr",
     "output_type": "stream",
     "text": [
      "c:\\programdata\\anaconda3\\envs\\ml_proj4\\lib\\site-packages\\sklearn\\model_selection\\_search.py:842: DeprecationWarning: The default of the `iid` parameter will change from True to False in version 0.22 and will be removed in 0.24. This will change numeric results when test-set sizes are unequal.\n",
      "  DeprecationWarning)\n"
     ]
    },
    {
     "name": "stdout",
     "output_type": "stream",
     "text": [
      "###########################################################\n",
      "parameters:{'n_estimators': 50, 'learning_rate': 0.05, 'algorithm': 'SAMME.R'}\n",
      "###########################################################\n",
      "accuracy training set: 0.942\n",
      "accuracy test set: 0.891\n",
      "precision_score : 1\n",
      "recall_score : 0.2\n",
      "f1-score : 0.333\n",
      "################### classifier ############################\n",
      "('GBC', GradientBoostingClassifier(criterion='friedman_mse', init=None,\n",
      "              learning_rate=0.1, loss='deviance', max_depth=3,\n",
      "              max_features=None, max_leaf_nodes=None,\n",
      "              min_impurity_decrease=0.0, min_impurity_split=None,\n",
      "              min_samples_leaf=1, min_samples_split=2,\n",
      "              min_weight_fraction_leaf=0.0, n_estimators=100,\n",
      "              n_iter_no_change=None, presort='auto', random_state=None,\n",
      "              subsample=1.0, tol=0.0001, validation_fraction=0.1,\n",
      "              verbose=0, warm_start=False))\n",
      "###########################################################\n",
      "('GBC', 'GBC', {'max_features': ['log2', 'sqrt'], 'loss': ['deviance'], 'learning_rate': [0.01, 0.025, 0.05, 0.075, 0.1, 0.15, 0.2], 'n_estimators': [10, 50, 100], 'max_depth': [3, 5, 8]})\n"
     ]
    },
    {
     "name": "stderr",
     "output_type": "stream",
     "text": [
      "c:\\programdata\\anaconda3\\envs\\ml_proj4\\lib\\site-packages\\sklearn\\model_selection\\_search.py:842: DeprecationWarning: The default of the `iid` parameter will change from True to False in version 0.22 and will be removed in 0.24. This will change numeric results when test-set sizes are unequal.\n",
      "  DeprecationWarning)\n"
     ]
    },
    {
     "name": "stdout",
     "output_type": "stream",
     "text": [
      "###########################################################\n",
      "parameters:{'max_features': 'sqrt', 'loss': 'deviance', 'learning_rate': 0.075, 'n_estimators': 10, 'max_depth': 8}\n",
      "###########################################################\n",
      "accuracy training set: 1\n",
      "accuracy test set: 0.847\n",
      "precision_score : 0\n",
      "recall_score : 0\n",
      "f1-score : 0\n",
      "###########################################################\n",
      "###################### feature ############################\n",
      "Data after power transformation (Yeo-Johnson)\n",
      "################### classifier ############################\n",
      "('SVC', SVC(C=1.0, cache_size=200, class_weight=None, coef0=0.0,\n",
      "  decision_function_shape='ovr', degree=3, gamma='auto_deprecated',\n",
      "  kernel='rbf', max_iter=-1, probability=False, random_state=None,\n",
      "  shrinking=True, tol=0.001, verbose=False))\n",
      "###########################################################\n",
      "('SVC', 'SVC', {'kernel': ['linear', 'poly', 'rbf'], 'C': [1, 10, 50, 100]})\n"
     ]
    },
    {
     "name": "stderr",
     "output_type": "stream",
     "text": [
      "c:\\programdata\\anaconda3\\envs\\ml_proj4\\lib\\site-packages\\sklearn\\model_selection\\_search.py:842: DeprecationWarning: The default of the `iid` parameter will change from True to False in version 0.22 and will be removed in 0.24. This will change numeric results when test-set sizes are unequal.\n",
      "  DeprecationWarning)\n"
     ]
    },
    {
     "name": "stdout",
     "output_type": "stream",
     "text": [
      "###########################################################\n",
      "parameters:{'kernel': 'rbf', 'C': 50}\n",
      "###########################################################\n",
      "accuracy training set: 1\n",
      "accuracy test set: 0.845\n",
      "precision_score : 0.286\n",
      "recall_score : 0.4\n",
      "f1-score : 0.333\n",
      "################### classifier ############################\n",
      "('DTC', DecisionTreeClassifier(class_weight=None, criterion='gini', max_depth=None,\n",
      "            max_features=None, max_leaf_nodes=None,\n",
      "            min_impurity_decrease=0.0, min_impurity_split=None,\n",
      "            min_samples_leaf=1, min_samples_split=2,\n",
      "            min_weight_fraction_leaf=0.0, presort=False, random_state=None,\n",
      "            splitter='best'))\n",
      "###########################################################\n",
      "('DTC', 'DTC', {'min_samples_split': [2, 5, 8, 10], 'splitter': ['best', 'random'], 'criterion': ['gini', 'entropy'], 'max_depth': [10, 25, 50, 100, 200]})\n"
     ]
    },
    {
     "name": "stderr",
     "output_type": "stream",
     "text": [
      "c:\\programdata\\anaconda3\\envs\\ml_proj4\\lib\\site-packages\\sklearn\\model_selection\\_search.py:842: DeprecationWarning: The default of the `iid` parameter will change from True to False in version 0.22 and will be removed in 0.24. This will change numeric results when test-set sizes are unequal.\n",
      "  DeprecationWarning)\n"
     ]
    },
    {
     "name": "stdout",
     "output_type": "stream",
     "text": [
      "###########################################################\n",
      "parameters:{'min_samples_split': 5, 'splitter': 'random', 'criterion': 'entropy', 'max_depth': 200}\n",
      "###########################################################\n",
      "accuracy training set: 0.968\n",
      "accuracy test set: 0.825\n",
      "precision_score : 0\n",
      "recall_score : 0\n",
      "f1-score : 0\n",
      "################### classifier ############################\n",
      "('RFC', RandomForestClassifier(bootstrap=True, class_weight=None, criterion='gini',\n",
      "            max_depth=None, max_features='auto', max_leaf_nodes=None,\n",
      "            min_impurity_decrease=0.0, min_impurity_split=None,\n",
      "            min_samples_leaf=1, min_samples_split=2,\n",
      "            min_weight_fraction_leaf=0.0, n_estimators='warn', n_jobs=None,\n",
      "            oob_score=False, random_state=None, verbose=0,\n",
      "            warm_start=False))\n",
      "###########################################################\n",
      "('RFC', 'RFC', {'n_estimators': [10, 50, 100], 'max_features': ['log2', 'sqrt'], 'criterion': ['gini', 'entropy'], 'max_depth': [3, 5, 8]})\n"
     ]
    },
    {
     "name": "stderr",
     "output_type": "stream",
     "text": [
      "c:\\programdata\\anaconda3\\envs\\ml_proj4\\lib\\site-packages\\sklearn\\model_selection\\_search.py:842: DeprecationWarning: The default of the `iid` parameter will change from True to False in version 0.22 and will be removed in 0.24. This will change numeric results when test-set sizes are unequal.\n",
      "  DeprecationWarning)\n"
     ]
    },
    {
     "name": "stdout",
     "output_type": "stream",
     "text": [
      "###########################################################\n",
      "parameters:{'max_features': 'log2', 'n_estimators': 50, 'criterion': 'entropy', 'max_depth': 8}\n",
      "###########################################################\n",
      "accuracy training set: 1\n",
      "accuracy test set: 0.875\n",
      "precision_score : 0.5\n",
      "recall_score : 0.2\n",
      "f1-score : 0.286\n",
      "################### classifier ############################\n",
      "('ADA', AdaBoostClassifier(algorithm='SAMME.R', base_estimator=None,\n",
      "          learning_rate=1.0, n_estimators=50, random_state=None))\n",
      "###########################################################\n",
      "('ADA', 'ADA', {'n_estimators': [10, 50, 100], 'learning_rate': [0.01, 0.025, 0.05, 0.075, 0.1, 0.15, 0.2], 'algorithm': ['SAMME', 'SAMME.R']})\n"
     ]
    },
    {
     "name": "stderr",
     "output_type": "stream",
     "text": [
      "c:\\programdata\\anaconda3\\envs\\ml_proj4\\lib\\site-packages\\sklearn\\model_selection\\_search.py:842: DeprecationWarning: The default of the `iid` parameter will change from True to False in version 0.22 and will be removed in 0.24. This will change numeric results when test-set sizes are unequal.\n",
      "  DeprecationWarning)\n"
     ]
    },
    {
     "name": "stdout",
     "output_type": "stream",
     "text": [
      "###########################################################\n",
      "parameters:{'n_estimators': 10, 'learning_rate': 0.2, 'algorithm': 'SAMME'}\n",
      "###########################################################\n",
      "accuracy training set: 0.824\n",
      "accuracy test set: 0.847\n",
      "precision_score : 0\n",
      "recall_score : 0\n",
      "f1-score : 0\n",
      "################### classifier ############################\n",
      "('GBC', GradientBoostingClassifier(criterion='friedman_mse', init=None,\n",
      "              learning_rate=0.1, loss='deviance', max_depth=3,\n",
      "              max_features=None, max_leaf_nodes=None,\n",
      "              min_impurity_decrease=0.0, min_impurity_split=None,\n",
      "              min_samples_leaf=1, min_samples_split=2,\n",
      "              min_weight_fraction_leaf=0.0, n_estimators=100,\n",
      "              n_iter_no_change=None, presort='auto', random_state=None,\n",
      "              subsample=1.0, tol=0.0001, validation_fraction=0.1,\n",
      "              verbose=0, warm_start=False))\n",
      "###########################################################\n",
      "('GBC', 'GBC', {'max_features': ['log2', 'sqrt'], 'loss': ['deviance'], 'learning_rate': [0.01, 0.025, 0.05, 0.075, 0.1, 0.15, 0.2], 'n_estimators': [10, 50, 100], 'max_depth': [3, 5, 8]})\n"
     ]
    },
    {
     "name": "stderr",
     "output_type": "stream",
     "text": [
      "c:\\programdata\\anaconda3\\envs\\ml_proj4\\lib\\site-packages\\sklearn\\model_selection\\_search.py:842: DeprecationWarning: The default of the `iid` parameter will change from True to False in version 0.22 and will be removed in 0.24. This will change numeric results when test-set sizes are unequal.\n",
      "  DeprecationWarning)\n"
     ]
    },
    {
     "name": "stdout",
     "output_type": "stream",
     "text": [
      "###########################################################\n",
      "parameters:{'max_features': 'sqrt', 'loss': 'deviance', 'learning_rate': 0.15, 'n_estimators': 10, 'max_depth': 8}\n",
      "###########################################################\n",
      "accuracy training set: 1\n",
      "accuracy test set: 0.891\n",
      "precision_score : 1\n",
      "recall_score : 0.2\n",
      "f1-score : 0.333\n",
      "###########################################################\n",
      "###################### feature ############################\n",
      "Data after quantile transformation (gaussian pdf)\n",
      "################### classifier ############################\n",
      "('SVC', SVC(C=1.0, cache_size=200, class_weight=None, coef0=0.0,\n",
      "  decision_function_shape='ovr', degree=3, gamma='auto_deprecated',\n",
      "  kernel='rbf', max_iter=-1, probability=False, random_state=None,\n",
      "  shrinking=True, tol=0.001, verbose=False))\n",
      "###########################################################\n",
      "('SVC', 'SVC', {'kernel': ['linear', 'poly', 'rbf'], 'C': [1, 10, 50, 100]})\n"
     ]
    },
    {
     "name": "stderr",
     "output_type": "stream",
     "text": [
      "c:\\programdata\\anaconda3\\envs\\ml_proj4\\lib\\site-packages\\sklearn\\model_selection\\_search.py:842: DeprecationWarning: The default of the `iid` parameter will change from True to False in version 0.22 and will be removed in 0.24. This will change numeric results when test-set sizes are unequal.\n",
      "  DeprecationWarning)\n"
     ]
    },
    {
     "name": "stdout",
     "output_type": "stream",
     "text": [
      "###########################################################\n",
      "parameters:{'kernel': 'rbf', 'C': 10}\n",
      "###########################################################\n",
      "accuracy training set: 1\n",
      "accuracy test set: 0.836\n",
      "precision_score : 0\n",
      "recall_score : 0\n",
      "f1-score : 0\n",
      "################### classifier ############################\n",
      "('DTC', DecisionTreeClassifier(class_weight=None, criterion='gini', max_depth=None,\n",
      "            max_features=None, max_leaf_nodes=None,\n",
      "            min_impurity_decrease=0.0, min_impurity_split=None,\n",
      "            min_samples_leaf=1, min_samples_split=2,\n",
      "            min_weight_fraction_leaf=0.0, presort=False, random_state=None,\n",
      "            splitter='best'))\n",
      "###########################################################\n",
      "('DTC', 'DTC', {'min_samples_split': [2, 5, 8, 10], 'splitter': ['best', 'random'], 'criterion': ['gini', 'entropy'], 'max_depth': [10, 25, 50, 100, 200]})\n"
     ]
    },
    {
     "name": "stderr",
     "output_type": "stream",
     "text": [
      "c:\\programdata\\anaconda3\\envs\\ml_proj4\\lib\\site-packages\\sklearn\\model_selection\\_search.py:842: DeprecationWarning: The default of the `iid` parameter will change from True to False in version 0.22 and will be removed in 0.24. This will change numeric results when test-set sizes are unequal.\n",
      "  DeprecationWarning)\n"
     ]
    },
    {
     "name": "stdout",
     "output_type": "stream",
     "text": [
      "###########################################################\n",
      "parameters:{'min_samples_split': 2, 'splitter': 'random', 'criterion': 'entropy', 'max_depth': 100}\n",
      "###########################################################\n",
      "accuracy training set: 1\n",
      "accuracy test set: 0.891\n",
      "precision_score : 0.5\n",
      "recall_score : 0.4\n",
      "f1-score : 0.444\n",
      "################### classifier ############################\n",
      "('RFC', RandomForestClassifier(bootstrap=True, class_weight=None, criterion='gini',\n",
      "            max_depth=None, max_features='auto', max_leaf_nodes=None,\n",
      "            min_impurity_decrease=0.0, min_impurity_split=None,\n",
      "            min_samples_leaf=1, min_samples_split=2,\n",
      "            min_weight_fraction_leaf=0.0, n_estimators='warn', n_jobs=None,\n",
      "            oob_score=False, random_state=None, verbose=0,\n",
      "            warm_start=False))\n",
      "###########################################################\n",
      "('RFC', 'RFC', {'n_estimators': [10, 50, 100], 'max_features': ['log2', 'sqrt'], 'criterion': ['gini', 'entropy'], 'max_depth': [3, 5, 8]})\n"
     ]
    },
    {
     "name": "stderr",
     "output_type": "stream",
     "text": [
      "c:\\programdata\\anaconda3\\envs\\ml_proj4\\lib\\site-packages\\sklearn\\model_selection\\_search.py:842: DeprecationWarning: The default of the `iid` parameter will change from True to False in version 0.22 and will be removed in 0.24. This will change numeric results when test-set sizes are unequal.\n",
      "  DeprecationWarning)\n"
     ]
    },
    {
     "name": "stdout",
     "output_type": "stream",
     "text": [
      "###########################################################\n",
      "parameters:{'max_features': 'log2', 'n_estimators': 10, 'criterion': 'gini', 'max_depth': 5}\n",
      "###########################################################\n",
      "accuracy training set: 0.942\n",
      "accuracy test set: 0.891\n",
      "precision_score : 1\n",
      "recall_score : 0.2\n",
      "f1-score : 0.333\n",
      "################### classifier ############################\n",
      "('ADA', AdaBoostClassifier(algorithm='SAMME.R', base_estimator=None,\n",
      "          learning_rate=1.0, n_estimators=50, random_state=None))\n",
      "###########################################################\n",
      "('ADA', 'ADA', {'n_estimators': [10, 50, 100], 'learning_rate': [0.01, 0.025, 0.05, 0.075, 0.1, 0.15, 0.2], 'algorithm': ['SAMME', 'SAMME.R']})\n"
     ]
    },
    {
     "name": "stderr",
     "output_type": "stream",
     "text": [
      "c:\\programdata\\anaconda3\\envs\\ml_proj4\\lib\\site-packages\\sklearn\\model_selection\\_search.py:842: DeprecationWarning: The default of the `iid` parameter will change from True to False in version 0.22 and will be removed in 0.24. This will change numeric results when test-set sizes are unequal.\n",
      "  DeprecationWarning)\n"
     ]
    },
    {
     "name": "stdout",
     "output_type": "stream",
     "text": [
      "###########################################################\n",
      "parameters:{'n_estimators': 10, 'learning_rate': 0.075, 'algorithm': 'SAMME.R'}\n",
      "###########################################################\n",
      "accuracy training set: 0.928\n",
      "accuracy test set: 0.847\n",
      "precision_score : 0.25\n",
      "recall_score : 0.2\n",
      "f1-score : 0.222\n",
      "################### classifier ############################\n",
      "('GBC', GradientBoostingClassifier(criterion='friedman_mse', init=None,\n",
      "              learning_rate=0.1, loss='deviance', max_depth=3,\n",
      "              max_features=None, max_leaf_nodes=None,\n",
      "              min_impurity_decrease=0.0, min_impurity_split=None,\n",
      "              min_samples_leaf=1, min_samples_split=2,\n",
      "              min_weight_fraction_leaf=0.0, n_estimators=100,\n",
      "              n_iter_no_change=None, presort='auto', random_state=None,\n",
      "              subsample=1.0, tol=0.0001, validation_fraction=0.1,\n",
      "              verbose=0, warm_start=False))\n",
      "###########################################################\n",
      "('GBC', 'GBC', {'max_features': ['log2', 'sqrt'], 'loss': ['deviance'], 'learning_rate': [0.01, 0.025, 0.05, 0.075, 0.1, 0.15, 0.2], 'n_estimators': [10, 50, 100], 'max_depth': [3, 5, 8]})\n"
     ]
    },
    {
     "name": "stderr",
     "output_type": "stream",
     "text": [
      "c:\\programdata\\anaconda3\\envs\\ml_proj4\\lib\\site-packages\\sklearn\\model_selection\\_search.py:842: DeprecationWarning: The default of the `iid` parameter will change from True to False in version 0.22 and will be removed in 0.24. This will change numeric results when test-set sizes are unequal.\n",
      "  DeprecationWarning)\n"
     ]
    },
    {
     "name": "stdout",
     "output_type": "stream",
     "text": [
      "###########################################################\n",
      "parameters:{'max_features': 'log2', 'loss': 'deviance', 'learning_rate': 0.15, 'n_estimators': 10, 'max_depth': 5}\n",
      "###########################################################\n",
      "accuracy training set: 1\n",
      "accuracy test set: 0.891\n",
      "precision_score : 1\n",
      "recall_score : 0.2\n",
      "f1-score : 0.333\n",
      "###########################################################\n",
      "###################### feature ############################\n",
      "Data after quantile transformation (uniform pdf)\n",
      "################### classifier ############################\n",
      "('SVC', SVC(C=1.0, cache_size=200, class_weight=None, coef0=0.0,\n",
      "  decision_function_shape='ovr', degree=3, gamma='auto_deprecated',\n",
      "  kernel='rbf', max_iter=-1, probability=False, random_state=None,\n",
      "  shrinking=True, tol=0.001, verbose=False))\n",
      "###########################################################\n",
      "('SVC', 'SVC', {'kernel': ['linear', 'poly', 'rbf'], 'C': [1, 10, 50, 100]})\n"
     ]
    },
    {
     "name": "stderr",
     "output_type": "stream",
     "text": [
      "c:\\programdata\\anaconda3\\envs\\ml_proj4\\lib\\site-packages\\sklearn\\model_selection\\_search.py:842: DeprecationWarning: The default of the `iid` parameter will change from True to False in version 0.22 and will be removed in 0.24. This will change numeric results when test-set sizes are unequal.\n",
      "  DeprecationWarning)\n"
     ]
    },
    {
     "name": "stdout",
     "output_type": "stream",
     "text": [
      "###########################################################\n",
      "parameters:{'kernel': 'poly', 'C': 50}\n",
      "###########################################################\n",
      "accuracy training set: 0.932\n",
      "accuracy test set: 0.925\n",
      "precision_score : 1\n",
      "recall_score : 0.4\n",
      "f1-score : 0.571\n",
      "################### classifier ############################\n",
      "('DTC', DecisionTreeClassifier(class_weight=None, criterion='gini', max_depth=None,\n",
      "            max_features=None, max_leaf_nodes=None,\n",
      "            min_impurity_decrease=0.0, min_impurity_split=None,\n",
      "            min_samples_leaf=1, min_samples_split=2,\n",
      "            min_weight_fraction_leaf=0.0, presort=False, random_state=None,\n",
      "            splitter='best'))\n",
      "###########################################################\n",
      "('DTC', 'DTC', {'min_samples_split': [2, 5, 8, 10], 'splitter': ['best', 'random'], 'criterion': ['gini', 'entropy'], 'max_depth': [10, 25, 50, 100, 200]})\n"
     ]
    },
    {
     "name": "stderr",
     "output_type": "stream",
     "text": [
      "c:\\programdata\\anaconda3\\envs\\ml_proj4\\lib\\site-packages\\sklearn\\model_selection\\_search.py:842: DeprecationWarning: The default of the `iid` parameter will change from True to False in version 0.22 and will be removed in 0.24. This will change numeric results when test-set sizes are unequal.\n",
      "  DeprecationWarning)\n"
     ]
    },
    {
     "name": "stdout",
     "output_type": "stream",
     "text": [
      "###########################################################\n",
      "parameters:{'min_samples_split': 10, 'splitter': 'best', 'criterion': 'gini', 'max_depth': 100}\n",
      "###########################################################\n",
      "accuracy training set: 0.99\n",
      "accuracy test set: 0.853\n",
      "precision_score : 0.333\n",
      "recall_score : 0.6\n",
      "f1-score : 0.429\n",
      "################### classifier ############################\n",
      "('RFC', RandomForestClassifier(bootstrap=True, class_weight=None, criterion='gini',\n",
      "            max_depth=None, max_features='auto', max_leaf_nodes=None,\n",
      "            min_impurity_decrease=0.0, min_impurity_split=None,\n",
      "            min_samples_leaf=1, min_samples_split=2,\n",
      "            min_weight_fraction_leaf=0.0, n_estimators='warn', n_jobs=None,\n",
      "            oob_score=False, random_state=None, verbose=0,\n",
      "            warm_start=False))\n",
      "###########################################################\n",
      "('RFC', 'RFC', {'n_estimators': [10, 50, 100], 'max_features': ['log2', 'sqrt'], 'criterion': ['gini', 'entropy'], 'max_depth': [3, 5, 8]})\n"
     ]
    },
    {
     "name": "stderr",
     "output_type": "stream",
     "text": [
      "c:\\programdata\\anaconda3\\envs\\ml_proj4\\lib\\site-packages\\sklearn\\model_selection\\_search.py:842: DeprecationWarning: The default of the `iid` parameter will change from True to False in version 0.22 and will be removed in 0.24. This will change numeric results when test-set sizes are unequal.\n",
      "  DeprecationWarning)\n"
     ]
    },
    {
     "name": "stdout",
     "output_type": "stream",
     "text": [
      "###########################################################\n",
      "parameters:{'max_features': 'log2', 'n_estimators': 10, 'criterion': 'entropy', 'max_depth': 5}\n",
      "###########################################################\n",
      "accuracy training set: 0.967\n",
      "accuracy test set: 0.891\n",
      "precision_score : 1\n",
      "recall_score : 0.2\n",
      "f1-score : 0.333\n",
      "################### classifier ############################\n",
      "('ADA', AdaBoostClassifier(algorithm='SAMME.R', base_estimator=None,\n",
      "          learning_rate=1.0, n_estimators=50, random_state=None))\n",
      "###########################################################\n",
      "('ADA', 'ADA', {'n_estimators': [10, 50, 100], 'learning_rate': [0.01, 0.025, 0.05, 0.075, 0.1, 0.15, 0.2], 'algorithm': ['SAMME', 'SAMME.R']})\n"
     ]
    },
    {
     "name": "stderr",
     "output_type": "stream",
     "text": [
      "c:\\programdata\\anaconda3\\envs\\ml_proj4\\lib\\site-packages\\sklearn\\model_selection\\_search.py:842: DeprecationWarning: The default of the `iid` parameter will change from True to False in version 0.22 and will be removed in 0.24. This will change numeric results when test-set sizes are unequal.\n",
      "  DeprecationWarning)\n"
     ]
    },
    {
     "name": "stdout",
     "output_type": "stream",
     "text": [
      "###########################################################\n",
      "parameters:{'n_estimators': 10, 'learning_rate': 0.075, 'algorithm': 'SAMME.R'}\n",
      "###########################################################\n",
      "accuracy training set: 0.928\n",
      "accuracy test set: 0.833\n",
      "precision_score : 0.2\n",
      "recall_score : 0.2\n",
      "f1-score : 0.2\n",
      "################### classifier ############################\n",
      "('GBC', GradientBoostingClassifier(criterion='friedman_mse', init=None,\n",
      "              learning_rate=0.1, loss='deviance', max_depth=3,\n",
      "              max_features=None, max_leaf_nodes=None,\n",
      "              min_impurity_decrease=0.0, min_impurity_split=None,\n",
      "              min_samples_leaf=1, min_samples_split=2,\n",
      "              min_weight_fraction_leaf=0.0, n_estimators=100,\n",
      "              n_iter_no_change=None, presort='auto', random_state=None,\n",
      "              subsample=1.0, tol=0.0001, validation_fraction=0.1,\n",
      "              verbose=0, warm_start=False))\n",
      "###########################################################\n",
      "('GBC', 'GBC', {'max_features': ['log2', 'sqrt'], 'loss': ['deviance'], 'learning_rate': [0.01, 0.025, 0.05, 0.075, 0.1, 0.15, 0.2], 'n_estimators': [10, 50, 100], 'max_depth': [3, 5, 8]})\n",
      "###########################################################\n",
      "parameters:{'max_features': 'sqrt', 'loss': 'deviance', 'learning_rate': 0.05, 'n_estimators': 50, 'max_depth': 3}\n",
      "###########################################################\n",
      "accuracy training set: 0.978\n",
      "accuracy test set: 0.861\n",
      "precision_score : 0.333\n",
      "recall_score : 0.2\n",
      "f1-score : 0.25\n"
     ]
    },
    {
     "name": "stderr",
     "output_type": "stream",
     "text": [
      "c:\\programdata\\anaconda3\\envs\\ml_proj4\\lib\\site-packages\\sklearn\\model_selection\\_search.py:842: DeprecationWarning: The default of the `iid` parameter will change from True to False in version 0.22 and will be removed in 0.24. This will change numeric results when test-set sizes are unequal.\n",
      "  DeprecationWarning)\n"
     ]
    }
   ],
   "source": [
    "#%%time\n",
    "# loop scale features\n",
    "result_list = []\n",
    "for x, features in enumerate(distributions):\n",
    "    # get scaled features from distribution\n",
    "    scaled_features = distributions[x][1]\n",
    "    #divide train and test set\n",
    "    features_train, features_test, labels_train, labels_test = train_test_split(\n",
    "        scaled_features, labels, test_size=0.33, random_state=42)\n",
    "    print('###########################################################')\n",
    "    print('###################### feature ############################')\n",
    "    print(features[0])\n",
    "    # loop classifierss\n",
    "    for y, classifier in classifiers:\n",
    "        print('################### classifier ############################')\n",
    "        print(y, classifier)\n",
    "        print('###########################################################')\n",
    "        #find matching parameter grid\n",
    "        for z, items in param_grid_list:\n",
    "            if y == z:\n",
    "                print(y, z, items)\n",
    "                # clasifier using GridSearchCV optimizing for f1 score\n",
    "                clf = GridSearchCV(classifier, items, scoring='f1_weighted', n_jobs=-2)\n",
    "                clf.fit(features_train, labels_train)\n",
    "                print('###########################################################')\n",
    "                print('parameters:' + str(clf.best_params_))\n",
    "                print('###########################################################')\n",
    "                print('accuracy training set: {0:.3g}'.format(clf.score(features_train, labels_train)))             \n",
    "                print('accuracy test set: {0:.3g}'.format(clf.score(features_test, labels_test)))                    \n",
    "                print('precision_score : {0:.3g}'.format(precision_score(labels_test,clf.predict(features_test))))\n",
    "                print('recall_score : {0:.3g}'.format(recall_score(labels_test,clf.predict(features_test))))          \n",
    "                print('f1-score : {0:.3g}'.format(f1_score(labels_test,clf.predict(features_test))))                \n",
    "                result_list.append({'scaling' : features[0],\n",
    "                                    'classifier' : classifier.__class__.__name__,\n",
    "                                    'best_params' : clf.best_params_,\n",
    "                                    'accuracy_training_set': clf.score(features_train, labels_train),            \n",
    "                                    'accuracy_test_set': clf.score(features_test, labels_test),                 \n",
    "                                    'precision_score': precision_score(labels_test,clf.predict(features_test)),\n",
    "                                    'recall_score': recall_score(labels_test,clf.predict(features_test)),       \n",
    "                                    'f1_score' : f1_score(labels_test,clf.predict(features_test))})\n",
    "                # save intermediate results\n",
    "                result_df = pd.DataFrame(result_list)\n",
    "                result_df.to_pickle('result_df.pkl')\n",
    "                \n",
    "#list to df and pickle for later use\n",
    "result_df = pd.DataFrame(result_list)\n",
    "result_df.to_pickle('result_df.pkl')"
   ]
  },
  {
   "cell_type": "markdown",
   "metadata": {},
   "source": [
    "#### Pick and Tune an Algorithm\n",
    "\n",
    "To determine which algoritm performs best, I created a for loop that checks the algorithms with gridSearhCV for al the selected classifiers methods. For the parameters to be tuned, I've tried to keep some continuity between the algorithms between the parameter grids.\n",
    "\n",
    "I've selected the following classifiers:\n",
    "* SVC\n",
    "* DecisionTreeClassifier\n",
    "* RandomForestClassifier\n",
    "* AdaBoostClassifier\n",
    "* GradientBoostingClassifier"
   ]
  },
  {
   "cell_type": "code",
   "execution_count": 57,
   "metadata": {},
   "outputs": [
    {
     "data": {
      "text/html": [
       "<div>\n",
       "<style scoped>\n",
       "    .dataframe tbody tr th:only-of-type {\n",
       "        vertical-align: middle;\n",
       "    }\n",
       "\n",
       "    .dataframe tbody tr th {\n",
       "        vertical-align: top;\n",
       "    }\n",
       "\n",
       "    .dataframe thead th {\n",
       "        text-align: right;\n",
       "    }\n",
       "</style>\n",
       "<table border=\"1\" class=\"dataframe\">\n",
       "  <thead>\n",
       "    <tr style=\"text-align: right;\">\n",
       "      <th></th>\n",
       "      <th>accuracy_test_set</th>\n",
       "      <th>accuracy_training_set</th>\n",
       "      <th>best_params</th>\n",
       "      <th>classifier</th>\n",
       "      <th>f1_score</th>\n",
       "      <th>precision_score</th>\n",
       "      <th>recall_score</th>\n",
       "      <th>scaling</th>\n",
       "    </tr>\n",
       "  </thead>\n",
       "  <tbody>\n",
       "    <tr>\n",
       "      <th>25</th>\n",
       "      <td>0.925161</td>\n",
       "      <td>0.931852</td>\n",
       "      <td>{u'kernel': u'poly', u'C': 50}</td>\n",
       "      <td>SVC</td>\n",
       "      <td>0.571429</td>\n",
       "      <td>1.000000</td>\n",
       "      <td>0.4</td>\n",
       "      <td>Data after quantile transformation (uniform pdf)</td>\n",
       "    </tr>\n",
       "    <tr>\n",
       "      <th>9</th>\n",
       "      <td>0.907197</td>\n",
       "      <td>1.000000</td>\n",
       "      <td>{u'max_features': u'sqrt', u'loss': u'deviance...</td>\n",
       "      <td>GradientBoostingClassifier</td>\n",
       "      <td>0.500000</td>\n",
       "      <td>0.666667</td>\n",
       "      <td>0.4</td>\n",
       "      <td>Data after min-max scaling</td>\n",
       "    </tr>\n",
       "    <tr>\n",
       "      <th>21</th>\n",
       "      <td>0.890645</td>\n",
       "      <td>1.000000</td>\n",
       "      <td>{u'min_samples_split': 2, u'splitter': u'rando...</td>\n",
       "      <td>DecisionTreeClassifier</td>\n",
       "      <td>0.444444</td>\n",
       "      <td>0.500000</td>\n",
       "      <td>0.4</td>\n",
       "      <td>Data after quantile transformation (gaussian pdf)</td>\n",
       "    </tr>\n",
       "    <tr>\n",
       "      <th>6</th>\n",
       "      <td>0.853078</td>\n",
       "      <td>0.989636</td>\n",
       "      <td>{u'min_samples_split': 8, u'splitter': u'best'...</td>\n",
       "      <td>DecisionTreeClassifier</td>\n",
       "      <td>0.428571</td>\n",
       "      <td>0.333333</td>\n",
       "      <td>0.6</td>\n",
       "      <td>Data after min-max scaling</td>\n",
       "    </tr>\n",
       "    <tr>\n",
       "      <th>11</th>\n",
       "      <td>0.853078</td>\n",
       "      <td>1.000000</td>\n",
       "      <td>{u'min_samples_split': 2, u'splitter': u'best'...</td>\n",
       "      <td>DecisionTreeClassifier</td>\n",
       "      <td>0.428571</td>\n",
       "      <td>0.333333</td>\n",
       "      <td>0.6</td>\n",
       "      <td>Data after max-abs scaling</td>\n",
       "    </tr>\n",
       "  </tbody>\n",
       "</table>\n",
       "</div>"
      ],
      "text/plain": [
       "    accuracy_test_set  accuracy_training_set  \\\n",
       "25           0.925161               0.931852   \n",
       "9            0.907197               1.000000   \n",
       "21           0.890645               1.000000   \n",
       "6            0.853078               0.989636   \n",
       "11           0.853078               1.000000   \n",
       "\n",
       "                                          best_params  \\\n",
       "25                     {u'kernel': u'poly', u'C': 50}   \n",
       "9   {u'max_features': u'sqrt', u'loss': u'deviance...   \n",
       "21  {u'min_samples_split': 2, u'splitter': u'rando...   \n",
       "6   {u'min_samples_split': 8, u'splitter': u'best'...   \n",
       "11  {u'min_samples_split': 2, u'splitter': u'best'...   \n",
       "\n",
       "                    classifier  f1_score  precision_score  recall_score  \\\n",
       "25                         SVC  0.571429         1.000000           0.4   \n",
       "9   GradientBoostingClassifier  0.500000         0.666667           0.4   \n",
       "21      DecisionTreeClassifier  0.444444         0.500000           0.4   \n",
       "6       DecisionTreeClassifier  0.428571         0.333333           0.6   \n",
       "11      DecisionTreeClassifier  0.428571         0.333333           0.6   \n",
       "\n",
       "                                              scaling  \n",
       "25   Data after quantile transformation (uniform pdf)  \n",
       "9                          Data after min-max scaling  \n",
       "21  Data after quantile transformation (gaussian pdf)  \n",
       "6                          Data after min-max scaling  \n",
       "11                         Data after max-abs scaling  "
      ]
     },
     "execution_count": 57,
     "metadata": {},
     "output_type": "execute_result"
    }
   ],
   "source": [
    "result_df.nlargest(5, 'f1_score')"
   ]
  },
  {
   "cell_type": "markdown",
   "metadata": {},
   "source": [
    "Of these, the SVC performed best based:\n",
    "* **F1 score**, to make sure we do not have a high inbalance in the results, we use f1 scaling to check the quality of the algorithm  \n",
    "In addition to that, it also:\n",
    "* **High precision and a more modest recall**  which means that all of the poi's identified are indeed poi's, but it misses quite some (false negatives) because it is so picky. I think for this purpose it is quite a good thing, since we want to be as sure as we can before accusing someone, as opposed to for instance a medical application where a  false positive would be more acceptable if it means more coverage. \n",
    "* **Accuracy for the test set which is not far from the accuracy of the training set** which means it is not overfitting the training set."
   ]
  },
  {
   "cell_type": "code",
   "execution_count": 52,
   "metadata": {},
   "outputs": [
    {
     "data": {
      "text/plain": [
       "{'C': 50, 'kernel': 'poly'}"
      ]
     },
     "execution_count": 52,
     "metadata": {},
     "output_type": "execute_result"
    }
   ],
   "source": [
    "result_df.loc[25]['best_params']"
   ]
  },
  {
   "cell_type": "markdown",
   "metadata": {},
   "source": [
    "## Validation\n",
    "\n",
    "### Metrics\n",
    "\n",
    "Evaluation metrics I am using are:\n",
    "* **accuracy_training_set & accuracy_test_set :** to see if the model is overfitting we check if the model performs a lot worse on the test set than on the training set.\n",
    "* **precision_score :** We want a high precision to be sure that the poi's identified are actually poi; we do not want to accuse anyone innocent\n",
    "* **recall_score :** The recall score can be somewhat lower than the accuracy; we'de rather have false negatives then false positives, as to not accuse anyone innocent.\n",
    "* **f1_score :** To make sure we do not have a high inbalance in the results, we use f1 scaling to check the quality of the algorithm\n",
    "\n",
    "### Algorithm optimizing\n",
    "I have used the F1 score as a metric for optimizing the parameters. The F1 score is the harmonic mean of the precision and recall, where an F1 score reaches its best value at 1 (perfect precision and recall). [wikipedia](https://en.wikipedia.org/wiki/F1_score) This is to avoid having either a very high precision/low recall, or a very high recall/low precision model.  \n",
    "\n",
    "As can be seen, the highest one is an SVC with a high precision and a more modest recall, which means that all of the poi's identified are indeed poi's, but it misses quite some (false negatives) because it is so picky. I think for this purpose it is quite a good thing, since we want to be as sure as we can before accusing someone, as opposed to for instance a medical application where a  false positive would be more acceptable if it means more coverage. It also has an accuracy for the test set which is not far from the accuracy of the training set, which means it is not overfitting the training set."
   ]
  },
  {
   "cell_type": "markdown",
   "metadata": {},
   "source": [
    "## TEST\n",
    "Let's test with the poi identifier script:\n",
    "Here I took the basics from the script and run it here, to make sure it performes as it's supposed to:\n"
   ]
  },
  {
   "cell_type": "code",
   "execution_count": 56,
   "metadata": {},
   "outputs": [
    {
     "name": "stdout",
     "output_type": "stream",
     "text": [
      "Pipeline(memory=None,\n",
      "     steps=[('scaler', QuantileTransformer(copy=True, ignore_implicit_zeros=False, n_quantiles=1000,\n",
      "          output_distribution='uniform', random_state=None,\n",
      "          subsample=100000)), ('SVC', SVC(C=50, cache_size=200, class_weight=None, coef0=0.0,\n",
      "  decision_function_shape='ovr', degree=3, gamma='auto_deprecated',\n",
      "  kernel='poly', max_iter=-1, probability=False, random_state=None,\n",
      "  shrinking=True, tol=0.001, verbose=False))])\n",
      "\tAccuracy: 0.90480\tPrecision: 0.77186\tRecall: 0.40600\tF1: 0.53211\tF2: 0.44852\n",
      "\tTotal predictions: 15000\tTrue positives:  812\tFalse positives:  240\tFalse negatives: 1188\tTrue negatives: 12760\n",
      "\n"
     ]
    }
   ],
   "source": [
    "from tester import test_classifier\n",
    "\n",
    "features_list = ['poi',\n",
    "                 'from_messages',\n",
    "                 'restricted_stock_deferred',\n",
    "                 'to_messages',\n",
    "                 'director_fees',\n",
    "                 'other',\n",
    "                 'from_poi_to_this_person',\n",
    "                 'expenses',\n",
    "                 'loan_advances',\n",
    "                 'restricted_stock',\n",
    "                 'total_payments',\n",
    "                 'deferred_income',\n",
    "                 'salary',\n",
    "                 'bonus',\n",
    "                 'exercised_stock_options',\n",
    "                 'total_stock_value',\n",
    "                 'deferral_payments_r',\n",
    "                 'shared_receipt_with_poi_r',\n",
    "                 'long_term_incentive_r',\n",
    "                 'from_this_person_to_poi_r']\n",
    "\n",
    "### Store to my_dataset for easy export below.\n",
    "my_dataset = replace_nan_ndict(enron_data)\n",
    "\n",
    "data = featureFormat(my_dataset, features_list, sort_keys = True)\n",
    "labels, features = targetFeatureSplit(data)\n",
    "\n",
    "clf = Pipeline([('scaler', QuantileTransformer(output_distribution='uniform')),\n",
    "                ('SVC',SVC(kernel='poly',\n",
    "                           C=50))])\n",
    "\n",
    "#{'min_samples_split': 5, 'splitter': 'random', 'criterion': 'gini', 'max_depth': 10}\n",
    "dump_classifier_and_data(clf, my_dataset, features_list)\n",
    "\n",
    "\n",
    "test_classifier(clf, my_dataset, features_list, folds = 1000)"
   ]
  },
  {
   "cell_type": "markdown",
   "metadata": {},
   "source": [
    "## Test\n",
    "Implementing all these in the [*poi_id.py*](poi_id.py), and testing it with the tester.py shows the message:\n",
    "<code>Pipeline(memory=None,\n",
    "     steps=[('scaler', QuantileTransformer(copy=True, ignore_implicit_zeros=False, n_quantiles=1000,\n",
    "          output_distribution='uniform', random_state=None,\n",
    "          subsample=100000)), ('SVC', SVC(C=50, cache_size=200, class_weight=None, coef0=0.0,\n",
    "  decision_function_shape='ovr', degree=3, gamma='auto_deprecated',\n",
    "  kernel='poly', max_iter=-1, probability=False, random_state=None,\n",
    "  shrinking=True, tol=0.001, verbose=False))])\n",
    "        Accuracy: 0.90480       Precision: 0.77186      Recall: 0.40600 F1: 0.53211     F2: 0.44852\n",
    "        Total predictions: 15000        True positives:  812    False positives:  240   False negatives: 1188   True negatives: 12760</code>\n",
    "\n"
   ]
  },
  {
   "cell_type": "markdown",
   "metadata": {},
   "source": [
    "So we have:\n",
    "* Total predictions: 15000        \n",
    "* True positives:  812    \n",
    "* False positives:  240   \n",
    "* False negatives: 1188   \n",
    "* True negatives: 12760\n",
    "\n",
    "\n",
    "* Accuracy: 0.90480       \n",
    "* Precision: 0.77186      \n",
    "* Recall: 0.40600 \n",
    "* F1: 0.53211\n",
    "* F2: 0.44852  \n",
    "  \n",
    "  \n",
    "\n",
    "So it seems our classifier is doing a pretty good job: \n",
    "* 90% of the cases are predicted correctly (either positive or negative) (accuracy)\n",
    "* with a 77% Precision, the TP/(TP+FP) is bigger then the recall, which is what we wanted, but both of them are high enough to maintain good quality"
   ]
  }
 ],
 "metadata": {
  "kernelspec": {
   "display_name": "Python 2",
   "language": "python",
   "name": "python2"
  },
  "language_info": {
   "codemirror_mode": {
    "name": "ipython",
    "version": 2
   },
   "file_extension": ".py",
   "mimetype": "text/x-python",
   "name": "python",
   "nbconvert_exporter": "python",
   "pygments_lexer": "ipython2",
   "version": "2.7.18"
  }
 },
 "nbformat": 4,
 "nbformat_minor": 2
}
